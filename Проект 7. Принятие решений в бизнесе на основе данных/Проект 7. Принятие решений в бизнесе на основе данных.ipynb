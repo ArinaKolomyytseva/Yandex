{
 "cells": [
  {
   "cell_type": "code",
   "execution_count": 1,
   "metadata": {},
   "outputs": [],
   "source": [
    "import pandas as pd\n",
    "import datetime as dt\n",
    "import numpy as np\n",
    "import matplotlib.pyplot as plt\n",
    "import scipy.stats as st\n",
    "hypothesis = pd.read_csv('/datasets/hypothesis.csv')\n",
    "orders = pd.read_csv('/datasets/orders.csv')\n",
    "visitors = pd.read_csv('/datasets/visitors.csv')\n",
    "pd.set_option('display.max_colwidth', -1)"
   ]
  },
  {
   "cell_type": "markdown",
   "metadata": {},
   "source": [
    "### Часть 1. Приоритизация гипотез."
   ]
  },
  {
   "cell_type": "code",
   "execution_count": 2,
   "metadata": {},
   "outputs": [
    {
     "data": {
      "text/html": [
       "<div>\n",
       "<style scoped>\n",
       "    .dataframe tbody tr th:only-of-type {\n",
       "        vertical-align: middle;\n",
       "    }\n",
       "\n",
       "    .dataframe tbody tr th {\n",
       "        vertical-align: top;\n",
       "    }\n",
       "\n",
       "    .dataframe thead th {\n",
       "        text-align: right;\n",
       "    }\n",
       "</style>\n",
       "<table border=\"1\" class=\"dataframe\">\n",
       "  <thead>\n",
       "    <tr style=\"text-align: right;\">\n",
       "      <th></th>\n",
       "      <th>Hypothesis</th>\n",
       "      <th>Reach</th>\n",
       "      <th>Impact</th>\n",
       "      <th>Confidence</th>\n",
       "      <th>Efforts</th>\n",
       "      <th>ICE</th>\n",
       "    </tr>\n",
       "  </thead>\n",
       "  <tbody>\n",
       "    <tr>\n",
       "      <td>8</td>\n",
       "      <td>Запустить акцию, дающую скидку на товар в день рождения</td>\n",
       "      <td>1</td>\n",
       "      <td>9</td>\n",
       "      <td>9</td>\n",
       "      <td>5</td>\n",
       "      <td>16.20</td>\n",
       "    </tr>\n",
       "    <tr>\n",
       "      <td>0</td>\n",
       "      <td>Добавить два новых канала привлечения трафика, что позволит привлекать на 30% больше пользователей</td>\n",
       "      <td>3</td>\n",
       "      <td>10</td>\n",
       "      <td>8</td>\n",
       "      <td>6</td>\n",
       "      <td>13.33</td>\n",
       "    </tr>\n",
       "    <tr>\n",
       "      <td>7</td>\n",
       "      <td>Добавить форму подписки на все основные страницы, чтобы собрать базу клиентов для email-рассылок</td>\n",
       "      <td>10</td>\n",
       "      <td>7</td>\n",
       "      <td>8</td>\n",
       "      <td>5</td>\n",
       "      <td>11.20</td>\n",
       "    </tr>\n",
       "    <tr>\n",
       "      <td>6</td>\n",
       "      <td>Показать на главной странице баннеры с актуальными акциями и распродажами, чтобы увеличить конверсию</td>\n",
       "      <td>5</td>\n",
       "      <td>3</td>\n",
       "      <td>8</td>\n",
       "      <td>3</td>\n",
       "      <td>8.00</td>\n",
       "    </tr>\n",
       "    <tr>\n",
       "      <td>2</td>\n",
       "      <td>Добавить блоки рекомендаций товаров на сайт интернет магазина, чтобы повысить конверсию и средний чек заказа</td>\n",
       "      <td>8</td>\n",
       "      <td>3</td>\n",
       "      <td>7</td>\n",
       "      <td>3</td>\n",
       "      <td>7.00</td>\n",
       "    </tr>\n",
       "    <tr>\n",
       "      <td>1</td>\n",
       "      <td>Запустить собственную службу доставки, что сократит срок доставки заказов</td>\n",
       "      <td>2</td>\n",
       "      <td>5</td>\n",
       "      <td>4</td>\n",
       "      <td>10</td>\n",
       "      <td>2.00</td>\n",
       "    </tr>\n",
       "    <tr>\n",
       "      <td>5</td>\n",
       "      <td>Добавить страницу отзывов клиентов о магазине, что позволит увеличить количество заказов</td>\n",
       "      <td>3</td>\n",
       "      <td>2</td>\n",
       "      <td>2</td>\n",
       "      <td>3</td>\n",
       "      <td>1.33</td>\n",
       "    </tr>\n",
       "    <tr>\n",
       "      <td>3</td>\n",
       "      <td>Изменить структура категорий, что увеличит конверсию, т.к. пользователи быстрее найдут нужный товар</td>\n",
       "      <td>8</td>\n",
       "      <td>3</td>\n",
       "      <td>3</td>\n",
       "      <td>8</td>\n",
       "      <td>1.12</td>\n",
       "    </tr>\n",
       "    <tr>\n",
       "      <td>4</td>\n",
       "      <td>Изменить цвет фона главной страницы, чтобы увеличить вовлеченность пользователей</td>\n",
       "      <td>3</td>\n",
       "      <td>1</td>\n",
       "      <td>1</td>\n",
       "      <td>1</td>\n",
       "      <td>1.00</td>\n",
       "    </tr>\n",
       "  </tbody>\n",
       "</table>\n",
       "</div>"
      ],
      "text/plain": [
       "                                                                                                     Hypothesis  \\\n",
       "8  Запустить акцию, дающую скидку на товар в день рождения                                                        \n",
       "0  Добавить два новых канала привлечения трафика, что позволит привлекать на 30% больше пользователей             \n",
       "7  Добавить форму подписки на все основные страницы, чтобы собрать базу клиентов для email-рассылок               \n",
       "6  Показать на главной странице баннеры с актуальными акциями и распродажами, чтобы увеличить конверсию           \n",
       "2  Добавить блоки рекомендаций товаров на сайт интернет магазина, чтобы повысить конверсию и средний чек заказа   \n",
       "1  Запустить собственную службу доставки, что сократит срок доставки заказов                                      \n",
       "5  Добавить страницу отзывов клиентов о магазине, что позволит увеличить количество заказов                       \n",
       "3  Изменить структура категорий, что увеличит конверсию, т.к. пользователи быстрее найдут нужный товар            \n",
       "4  Изменить цвет фона главной страницы, чтобы увеличить вовлеченность пользователей                               \n",
       "\n",
       "   Reach  Impact  Confidence  Efforts    ICE  \n",
       "8  1      9       9           5        16.20  \n",
       "0  3      10      8           6        13.33  \n",
       "7  10     7       8           5        11.20  \n",
       "6  5      3       8           3        8.00   \n",
       "2  8      3       7           3        7.00   \n",
       "1  2      5       4           10       2.00   \n",
       "5  3      2       2           3        1.33   \n",
       "3  8      3       3           8        1.12   \n",
       "4  3      1       1           1        1.00   "
      ]
     },
     "execution_count": 2,
     "metadata": {},
     "output_type": "execute_result"
    }
   ],
   "source": [
    "hypothesis['ICE'] = (\n",
    "    (hypothesis['Impact'] * hypothesis['Confidence'] / hypothesis['Efforts'])\n",
    "    .map(lambda i: '{:.2f}'.format(i))\n",
    "    .astype('float')\n",
    ")\n",
    "hypothesis = hypothesis.sort_values(by='ICE', ascending=False)\n",
    "hypothesis"
   ]
  },
  {
   "cell_type": "code",
   "execution_count": 3,
   "metadata": {},
   "outputs": [
    {
     "data": {
      "text/html": [
       "<div>\n",
       "<style scoped>\n",
       "    .dataframe tbody tr th:only-of-type {\n",
       "        vertical-align: middle;\n",
       "    }\n",
       "\n",
       "    .dataframe tbody tr th {\n",
       "        vertical-align: top;\n",
       "    }\n",
       "\n",
       "    .dataframe thead th {\n",
       "        text-align: right;\n",
       "    }\n",
       "</style>\n",
       "<table border=\"1\" class=\"dataframe\">\n",
       "  <thead>\n",
       "    <tr style=\"text-align: right;\">\n",
       "      <th></th>\n",
       "      <th>Hypothesis</th>\n",
       "      <th>Reach</th>\n",
       "      <th>Impact</th>\n",
       "      <th>Confidence</th>\n",
       "      <th>Efforts</th>\n",
       "      <th>ICE</th>\n",
       "      <th>RICE</th>\n",
       "    </tr>\n",
       "  </thead>\n",
       "  <tbody>\n",
       "    <tr>\n",
       "      <td>7</td>\n",
       "      <td>Добавить форму подписки на все основные страницы, чтобы собрать базу клиентов для email-рассылок</td>\n",
       "      <td>10</td>\n",
       "      <td>7</td>\n",
       "      <td>8</td>\n",
       "      <td>5</td>\n",
       "      <td>11.20</td>\n",
       "      <td>112.0</td>\n",
       "    </tr>\n",
       "    <tr>\n",
       "      <td>2</td>\n",
       "      <td>Добавить блоки рекомендаций товаров на сайт интернет магазина, чтобы повысить конверсию и средний чек заказа</td>\n",
       "      <td>8</td>\n",
       "      <td>3</td>\n",
       "      <td>7</td>\n",
       "      <td>3</td>\n",
       "      <td>7.00</td>\n",
       "      <td>56.0</td>\n",
       "    </tr>\n",
       "    <tr>\n",
       "      <td>0</td>\n",
       "      <td>Добавить два новых канала привлечения трафика, что позволит привлекать на 30% больше пользователей</td>\n",
       "      <td>3</td>\n",
       "      <td>10</td>\n",
       "      <td>8</td>\n",
       "      <td>6</td>\n",
       "      <td>13.33</td>\n",
       "      <td>40.0</td>\n",
       "    </tr>\n",
       "    <tr>\n",
       "      <td>6</td>\n",
       "      <td>Показать на главной странице баннеры с актуальными акциями и распродажами, чтобы увеличить конверсию</td>\n",
       "      <td>5</td>\n",
       "      <td>3</td>\n",
       "      <td>8</td>\n",
       "      <td>3</td>\n",
       "      <td>8.00</td>\n",
       "      <td>40.0</td>\n",
       "    </tr>\n",
       "    <tr>\n",
       "      <td>8</td>\n",
       "      <td>Запустить акцию, дающую скидку на товар в день рождения</td>\n",
       "      <td>1</td>\n",
       "      <td>9</td>\n",
       "      <td>9</td>\n",
       "      <td>5</td>\n",
       "      <td>16.20</td>\n",
       "      <td>16.2</td>\n",
       "    </tr>\n",
       "    <tr>\n",
       "      <td>3</td>\n",
       "      <td>Изменить структура категорий, что увеличит конверсию, т.к. пользователи быстрее найдут нужный товар</td>\n",
       "      <td>8</td>\n",
       "      <td>3</td>\n",
       "      <td>3</td>\n",
       "      <td>8</td>\n",
       "      <td>1.12</td>\n",
       "      <td>9.0</td>\n",
       "    </tr>\n",
       "    <tr>\n",
       "      <td>1</td>\n",
       "      <td>Запустить собственную службу доставки, что сократит срок доставки заказов</td>\n",
       "      <td>2</td>\n",
       "      <td>5</td>\n",
       "      <td>4</td>\n",
       "      <td>10</td>\n",
       "      <td>2.00</td>\n",
       "      <td>4.0</td>\n",
       "    </tr>\n",
       "    <tr>\n",
       "      <td>5</td>\n",
       "      <td>Добавить страницу отзывов клиентов о магазине, что позволит увеличить количество заказов</td>\n",
       "      <td>3</td>\n",
       "      <td>2</td>\n",
       "      <td>2</td>\n",
       "      <td>3</td>\n",
       "      <td>1.33</td>\n",
       "      <td>4.0</td>\n",
       "    </tr>\n",
       "    <tr>\n",
       "      <td>4</td>\n",
       "      <td>Изменить цвет фона главной страницы, чтобы увеличить вовлеченность пользователей</td>\n",
       "      <td>3</td>\n",
       "      <td>1</td>\n",
       "      <td>1</td>\n",
       "      <td>1</td>\n",
       "      <td>1.00</td>\n",
       "      <td>3.0</td>\n",
       "    </tr>\n",
       "  </tbody>\n",
       "</table>\n",
       "</div>"
      ],
      "text/plain": [
       "                                                                                                     Hypothesis  \\\n",
       "7  Добавить форму подписки на все основные страницы, чтобы собрать базу клиентов для email-рассылок               \n",
       "2  Добавить блоки рекомендаций товаров на сайт интернет магазина, чтобы повысить конверсию и средний чек заказа   \n",
       "0  Добавить два новых канала привлечения трафика, что позволит привлекать на 30% больше пользователей             \n",
       "6  Показать на главной странице баннеры с актуальными акциями и распродажами, чтобы увеличить конверсию           \n",
       "8  Запустить акцию, дающую скидку на товар в день рождения                                                        \n",
       "3  Изменить структура категорий, что увеличит конверсию, т.к. пользователи быстрее найдут нужный товар            \n",
       "1  Запустить собственную службу доставки, что сократит срок доставки заказов                                      \n",
       "5  Добавить страницу отзывов клиентов о магазине, что позволит увеличить количество заказов                       \n",
       "4  Изменить цвет фона главной страницы, чтобы увеличить вовлеченность пользователей                               \n",
       "\n",
       "   Reach  Impact  Confidence  Efforts    ICE   RICE  \n",
       "7  10     7       8           5        11.20  112.0  \n",
       "2  8      3       7           3        7.00   56.0   \n",
       "0  3      10      8           6        13.33  40.0   \n",
       "6  5      3       8           3        8.00   40.0   \n",
       "8  1      9       9           5        16.20  16.2   \n",
       "3  8      3       3           8        1.12   9.0    \n",
       "1  2      5       4           10       2.00   4.0    \n",
       "5  3      2       2           3        1.33   4.0    \n",
       "4  3      1       1           1        1.00   3.0    "
      ]
     },
     "execution_count": 3,
     "metadata": {},
     "output_type": "execute_result"
    }
   ],
   "source": [
    "hypothesis['RICE'] = (hypothesis['Reach'] * hypothesis['Impact'] * hypothesis['Confidence']) / hypothesis['Efforts']\n",
    "hypothesis = hypothesis.sort_values(by='RICE', ascending=False)\n",
    "hypothesis"
   ]
  },
  {
   "cell_type": "markdown",
   "metadata": {},
   "source": [
    "Вычислили в столбцах значения ICE и RICE. Отличие при подсчете в метрике Reach (объем затронутых изменением пользователей). Если в расчете ICE итог почти коррелирует со значением Confidence (уверенность во влиянии на пользователей), то при расчете RICE объем затронутых пользователей меняет картину. И вот гипотезы с высоким Reach выходят на передний план. Значит уверенности в изменениях и их силы влияния не хватило, чтобы перекрыть значимость объема затрагиваемой клиентуры."
   ]
  },
  {
   "cell_type": "markdown",
   "metadata": {},
   "source": [
    "### Часть 2. Анализ A/B-теста"
   ]
  },
  {
   "cell_type": "markdown",
   "metadata": {},
   "source": [
    "* Постройте график кумулятивной выручки по группам. Сделайте выводы и предположения."
   ]
  },
  {
   "cell_type": "code",
   "execution_count": 4,
   "metadata": {},
   "outputs": [],
   "source": [
    "orders['date'] = pd.to_datetime(orders['date'], format='%Y-%m-%d')\n",
    "visitors['date'] = pd.to_datetime(visitors['date'], format='%Y-%m-%d')"
   ]
  },
  {
   "cell_type": "code",
   "execution_count": 5,
   "metadata": {},
   "outputs": [],
   "source": [
    "datesGroups = orders[['date', 'group']].drop_duplicates()"
   ]
  },
  {
   "cell_type": "markdown",
   "metadata": {},
   "source": [
    "Создала датафрейм со столбцами 'date' и 'group' с удаленными дубликатами."
   ]
  },
  {
   "cell_type": "code",
   "execution_count": 6,
   "metadata": {},
   "outputs": [],
   "source": [
    "ordersAggregated = datesGroups.apply(\n",
    "    lambda x: orders[np.logical_and(orders['date'] <= x['date'], orders['group'] == x['group'])]\n",
    "    .agg({'date':'max', 'group':'max', 'transactionId': pd.Series.nunique, 'visitorId':pd.Series.nunique,'revenue':'sum'}), \n",
    "    axis=1).sort_values(['date', 'group'])"
   ]
  },
  {
   "cell_type": "markdown",
   "metadata": {},
   "source": [
    "OrdersAggregated содержит дату; группу A/B-теста; число уникальных заказов в группе теста по указанную дату включительно; число уникальных пользователей, совершивших хотя бы 1 заказ в группе теста по указанную дату включительно; суммарную выручку заказов в группе теста по указанную дату включительно."
   ]
  },
  {
   "cell_type": "code",
   "execution_count": 7,
   "metadata": {},
   "outputs": [],
   "source": [
    "visitorsAggregated = datesGroups.apply(\n",
    "    lambda x: visitors[np.logical_and(visitors['date'] <= x['date'], visitors['group'] == x['group'])]\n",
    "    .agg({'date':'max', 'group':'max', 'visitors':'sum'}), axis=1).sort_values(['date','group'])"
   ]
  },
  {
   "cell_type": "markdown",
   "metadata": {},
   "source": [
    "VisitorsAggregated содержит дату; группу A/B-теста; количество уникальных посетителей в группе теста по указанную дату включительно."
   ]
  },
  {
   "cell_type": "code",
   "execution_count": 8,
   "metadata": {},
   "outputs": [],
   "source": [
    "cummulativeData = ordersAggregated.merge(visitorsAggregated, on=['date', 'group'])"
   ]
  },
  {
   "cell_type": "code",
   "execution_count": 9,
   "metadata": {},
   "outputs": [
    {
     "name": "stderr",
     "output_type": "stream",
     "text": [
      "/opt/conda/lib/python3.7/site-packages/pandas/plotting/_matplotlib/converter.py:103: FutureWarning: Using an implicitly registered datetime converter for a matplotlib plotting method. The converter was registered by pandas on import. Future versions of pandas will require you to explicitly register matplotlib converters.\n",
      "\n",
      "To register the converters:\n",
      "\t>>> from pandas.plotting import register_matplotlib_converters\n",
      "\t>>> register_matplotlib_converters()\n",
      "  warnings.warn(msg, FutureWarning)\n"
     ]
    },
    {
     "data": {
      "text/plain": [
       "<matplotlib.legend.Legend at 0x7ff2d3ae64e0>"
      ]
     },
     "execution_count": 9,
     "metadata": {},
     "output_type": "execute_result"
    },
    {
     "data": {
      "image/png": "[encoded data removed]",
      "text/plain": [
       "<Figure size 432x288 with 1 Axes>"
      ]
     },
     "metadata": {
      "needs_background": "light"
     },
     "output_type": "display_data"
    }
   ],
   "source": [
    "cummulativeRevenueA = cummulativeData[cummulativeData['group'] == 'A']\n",
    "cummulativeRevenueB = cummulativeData[cummulativeData['group'] == 'B']\n",
    "plt.plot(cummulativeRevenueA['date'], cummulativeRevenueA['revenue'], label='A')\n",
    "plt.plot(cummulativeRevenueB['date'], cummulativeRevenueB['revenue'], label='B')\n",
    "plt.legend()"
   ]
  },
  {
   "cell_type": "markdown",
   "metadata": {},
   "source": [
    "С самого начала теста по кумулятивной выручке группа B вырвалась вперёд и продолжала лидировать весь остаток теста. Возможно на результаты повлияли неотфильтрованные по выбросам данные."
   ]
  },
  {
   "cell_type": "markdown",
   "metadata": {},
   "source": [
    "* Постройте график кумулятивного среднего чека по группам. Сделайте выводы и предположения."
   ]
  },
  {
   "cell_type": "code",
   "execution_count": 27,
   "metadata": {},
   "outputs": [
    {
     "data": {
      "image/png": "[encoded data removed]",
      "text/plain": [
       "<Figure size 432x288 with 1 Axes>"
      ]
     },
     "metadata": {
      "needs_background": "light"
     },
     "output_type": "display_data"
    }
   ],
   "source": [
    "plt.plot(cummulativeRevenueA['date'], cummulativeRevenueA['revenue'] / cummulativeRevenueA['visitors'], label='A')\n",
    "plt.plot(cummulativeRevenueB['date'], cummulativeRevenueB['revenue'] / cummulativeRevenueB['visitors'], label='B')\n",
    "plt.legend()\n",
    "ticks = plt.xticks(rotation=70)  #код наставника"
   ]
  },
  {
   "cell_type": "markdown",
   "metadata": {},
   "source": [
    "Различие в среднем чеке между группами прыгает."
   ]
  },
  {
   "cell_type": "markdown",
   "metadata": {},
   "source": [
    "* Постройте график относительного изменения кумулятивного среднего чека группы B к группе A. Сделайте выводы и предположения."
   ]
  },
  {
   "cell_type": "code",
   "execution_count": 11,
   "metadata": {},
   "outputs": [
    {
     "data": {
      "text/plain": [
       "<matplotlib.lines.Line2D at 0x7ff2d3a62390>"
      ]
     },
     "execution_count": 11,
     "metadata": {},
     "output_type": "execute_result"
    },
    {
     "data": {
      "image/png": "[encoded data removed]",
      "text/plain": [
       "<Figure size 432x288 with 1 Axes>"
      ]
     },
     "metadata": {
      "needs_background": "light"
     },
     "output_type": "display_data"
    }
   ],
   "source": [
    "mergedCummulativeRevenue = cummulativeRevenueA.merge(cummulativeRevenueB, on='date', how='left', suffixes=['-A','-B'])\n",
    "plt.plot(mergedCummulativeRevenue['date'], (mergedCummulativeRevenue['revenue-B']/mergedCummulativeRevenue['visitors-B'])/\n",
    "        (mergedCummulativeRevenue['revenue-A']/mergedCummulativeRevenue['visitors-A'])-1)\n",
    "plt.axhline(y=0, color='black', linestyle=':')"
   ]
  },
  {
   "cell_type": "markdown",
   "metadata": {},
   "source": [
    "В графике относительного изменения кумулятивного среднего чека группы В к группе А резкие спады и взлеты сохраняются. Значит исходные данные прыгают, нужно проверить необходимость фильтрации."
   ]
  },
  {
   "cell_type": "markdown",
   "metadata": {},
   "source": [
    "* Постройте график кумулятивной конверсии по группам. Сделайте выводы и предположения."
   ]
  },
  {
   "cell_type": "code",
   "execution_count": 12,
   "metadata": {},
   "outputs": [
    {
     "data": {
      "text/plain": [
       "['2019-08-01', '2019-08-31', 0, 0.05]"
      ]
     },
     "execution_count": 12,
     "metadata": {},
     "output_type": "execute_result"
    },
    {
     "data": {
      "image/png": "[encoded data removed]",
      "text/plain": [
       "<Figure size 432x288 with 1 Axes>"
      ]
     },
     "metadata": {
      "needs_background": "light"
     },
     "output_type": "display_data"
    }
   ],
   "source": [
    "cummulativeData['conversion'] = cummulativeData['transactionId'] / cummulativeData['visitors']\n",
    "cummulativeDataA = cummulativeData[cummulativeData['group'] == 'A']\n",
    "cummulativeDataB = cummulativeData[cummulativeData['group'] == 'B']\n",
    "plt.plot(cummulativeDataA['date'], cummulativeDataA['conversion'], label='A')\n",
    "plt.plot(cummulativeDataB['date'], cummulativeDataB['conversion'], label='B')\n",
    "plt.legend()\n",
    "plt.axis([\"2019-08-01\", '2019-08-31', 0, 0.05])"
   ]
  },
  {
   "cell_type": "markdown",
   "metadata": {},
   "source": [
    "Конверсия группы В в начале месяца вырывается вперед и в конце теста опережает группу А на ~ 0.5 %."
   ]
  },
  {
   "cell_type": "markdown",
   "metadata": {},
   "source": [
    "* Постройте график относительного изменения кумулятивной конверсии группы B к группе A. Сделайте выводы и предположения."
   ]
  },
  {
   "cell_type": "code",
   "execution_count": 13,
   "metadata": {},
   "outputs": [
    {
     "data": {
      "text/plain": [
       "['2019-08-01', '2019-08-31', -0.2, 0.3]"
      ]
     },
     "execution_count": 13,
     "metadata": {},
     "output_type": "execute_result"
    },
    {
     "data": {
      "image/png": "[encoded data removed]",
      "text/plain": [
       "<Figure size 432x288 with 1 Axes>"
      ]
     },
     "metadata": {
      "needs_background": "light"
     },
     "output_type": "display_data"
    }
   ],
   "source": [
    "mergedCummulativeConversions = cummulativeDataA.merge(cummulativeDataB, on='date', how='left', suffixes=['-A', '-B'])\n",
    "plt.plot(mergedCummulativeConversions['date'],\n",
    "         (mergedCummulativeConversions['conversion-B']/mergedCummulativeConversions['conversion-A'])-1,\n",
    "         label='Относительное изменение кумулятивной конверсии группы B к группе A')\n",
    "\n",
    "plt.legend()\n",
    "plt.axhline(y=0, color='black', linestyle=':')\n",
    "plt.axhline(y=0.2, color='black', linestyle=':')\n",
    "plt.axis(['2019-08-01', '2019-08-31', -0.2, 0.3])"
   ]
  },
  {
   "cell_type": "markdown",
   "metadata": {},
   "source": [
    "Примерно с 3его дня теста группа B лидирует по конверсии и идет на спад с середины месяца."
   ]
  },
  {
   "cell_type": "markdown",
   "metadata": {},
   "source": [
    "* Постройте точечный график количества заказов по пользователям. Сделайте выводы и предположения."
   ]
  },
  {
   "cell_type": "code",
   "execution_count": 14,
   "metadata": {},
   "outputs": [
    {
     "data": {
      "text/plain": [
       "<matplotlib.collections.PathCollection at 0x7ff2cda27320>"
      ]
     },
     "execution_count": 14,
     "metadata": {},
     "output_type": "execute_result"
    },
    {
     "data": {
      "image/png": "[encoded data removed]",
      "text/plain": [
       "<Figure size 432x288 with 1 Axes>"
      ]
     },
     "metadata": {
      "needs_background": "light"
     },
     "output_type": "display_data"
    }
   ],
   "source": [
    "ordersByUsers = orders.groupby('visitorId', as_index=False)['transactionId'].agg({'transactionId':'nunique'}).sort_values(['transactionId'], ascending=False)\n",
    "x_values = pd.Series(range(0, len(ordersByUsers['visitorId'])))\n",
    "plt.scatter(x_values, ordersByUsers['transactionId'])"
   ]
  },
  {
   "cell_type": "markdown",
   "metadata": {},
   "source": [
    "Большинство пользователей совершило 1 заказ."
   ]
  },
  {
   "cell_type": "markdown",
   "metadata": {},
   "source": [
    "* Посчитайте 95-й и 99-й перцентили количества заказов на пользователя. Выберите границу для определения аномальных пользователей."
   ]
  },
  {
   "cell_type": "code",
   "execution_count": 15,
   "metadata": {},
   "outputs": [
    {
     "data": {
      "text/plain": [
       "array([2., 4.])"
      ]
     },
     "execution_count": 15,
     "metadata": {},
     "output_type": "execute_result"
    }
   ],
   "source": [
    "np.percentile(ordersByUsers['transactionId'], [95, 99])"
   ]
  },
  {
   "cell_type": "markdown",
   "metadata": {},
   "source": [
    "Не более 5% пользователей совершали больше двух заказов. И не более 1% пользователей — больше четырех заказов. Все, что идет больше, явно выбросы."
   ]
  },
  {
   "cell_type": "markdown",
   "metadata": {},
   "source": [
    "* Постройте точечный график стоимостей заказов. Сделайте выводы и предположения."
   ]
  },
  {
   "cell_type": "code",
   "execution_count": 16,
   "metadata": {},
   "outputs": [
    {
     "data": {
      "text/plain": [
       "<matplotlib.collections.PathCollection at 0x7ff2cd993080>"
      ]
     },
     "execution_count": 16,
     "metadata": {},
     "output_type": "execute_result"
    },
    {
     "data": {
      "image/png": "[encoded data removed]",
      "text/plain": [
       "<Figure size 432x288 with 1 Axes>"
      ]
     },
     "metadata": {
      "needs_background": "light"
     },
     "output_type": "display_data"
    }
   ],
   "source": [
    "x_values = pd.Series(range(0, len(orders['revenue'])))\n",
    "plt.scatter(x_values, orders['revenue'])\n",
    "#plt.axis([0, 1200, 0, 50000])"
   ]
  },
  {
   "cell_type": "markdown",
   "metadata": {},
   "source": [
    "Проведем примерный средний уровень стоимости заказов в 20 000 рублей. Пока считаем, что все, что больше - это выбросы."
   ]
  },
  {
   "cell_type": "markdown",
   "metadata": {},
   "source": [
    "* Посчитайте 95-й и 99-й перцентили стоимости заказов. Выберите границу для определения аномальных заказов."
   ]
  },
  {
   "cell_type": "code",
   "execution_count": 17,
   "metadata": {},
   "outputs": [
    {
     "data": {
      "text/plain": [
       "array([28000. , 58233.2])"
      ]
     },
     "execution_count": 17,
     "metadata": {},
     "output_type": "execute_result"
    }
   ],
   "source": [
    "np.percentile(orders['revenue'], [95, 99])"
   ]
  },
  {
   "cell_type": "markdown",
   "metadata": {},
   "source": [
    "В итоге у 5% заказов чек дороже 28 000 рублей. И у 1% заказов — дороже 58 000 рублей. Меняем границу выбросов"
   ]
  },
  {
   "cell_type": "markdown",
   "metadata": {},
   "source": [
    "* Посчитайте статистическую значимость различий в конверсии между группами по «сырым» данным. Сделайте выводы и предположения."
   ]
  },
  {
   "cell_type": "code",
   "execution_count": 18,
   "metadata": {},
   "outputs": [],
   "source": [
    "visitorsADaily = visitors[visitors['group'] == 'A'][['date', 'visitors']]\n",
    "visitorsBDaily = visitors[visitors['group'] == 'B'][['date', 'visitors']]\n",
    "visitorsADaily.columns = ['date', 'visitorsPerDateA']\n",
    "visitorsBDaily.columns = ['date', 'visitorsPerDateB']\n",
    "visitorsACummulative = visitorsADaily.apply(lambda x: visitorsADaily[visitorsADaily['date'] <= x['date']]\n",
    "                                            .agg({'date':'max', 'visitorsPerDateA':'sum'}), axis=1)\n",
    "visitorsBCummulative = visitorsBDaily.apply(lambda x: visitorsBDaily[visitorsBDaily['date'] <= x['date']]\n",
    "                                           .agg({'date':'max', 'visitorsPerDateB':'sum'}), axis=1)\n",
    "visitorsACummulative.columns = ['date', 'visitorsCummulativeA']\n",
    "visitorsBCummulative.columns = ['date', 'visitorsCummulativeB']"
   ]
  },
  {
   "cell_type": "markdown",
   "metadata": {},
   "source": [
    "По таблице Visitors выделили группы А и В, ограничили двумя столбцами. На этой основе вывели столбец с кумулятивной суммой количества посетителей по каждой дате."
   ]
  },
  {
   "cell_type": "code",
   "execution_count": 19,
   "metadata": {},
   "outputs": [],
   "source": [
    "ordersADaily = orders[orders['group'] == 'A'][['transactionId', 'visitorId', 'date', 'revenue']]\\\n",
    "                .groupby('date', as_index=False)\\\n",
    "                .agg({'transactionId':'nunique', 'revenue':'sum'})\n",
    "ordersBDaily = orders[orders['group'] == 'B'][['transactionId', 'visitorId', 'date', 'revenue']]\\\n",
    "                .groupby('date', as_index=False)\\\n",
    "                .agg({'transactionId':'nunique', 'revenue':'sum'})\n",
    "ordersADaily.columns = ['date', 'transactionPerDateA', 'revenuePerDateA']\n",
    "ordersBDaily.columns = ['date', 'transactionPerDateB', 'revenuePerDateB']\n",
    "ordersACummulative = ordersADaily.apply(lambda x: ordersADaily[ordersADaily['date'] <= x['date']]\n",
    "                                       .agg({'date':'max', 'transactionPerDateA':'sum', 'revenuePerDateA':'sum'}), axis=1)\\\n",
    "                                       .sort_values(['date'])\n",
    "ordersBCummulative = ordersBDaily.apply(lambda x: ordersBDaily[ordersBDaily['date'] <= x['date']]\n",
    "                                        .agg({'date':'max', 'transactionPerDateB':'sum', 'revenuePerDateB':'sum'}), axis=1)\\\n",
    "                                        .sort_values(['date'])\n",
    "ordersACummulative.columns = ['date', 'transactionCummulativeA', 'revenueCummulativeA']\n",
    "ordersBCummulative.columns = ['date', 'transactionCummulativeB', 'revenueCummulativeB']"
   ]
  },
  {
   "cell_type": "markdown",
   "metadata": {},
   "source": [
    "По таблице Orders выделили группы А и В, оставили уникальные заказы и посчитали суму по ним. На этой основе вывели столбцы с кумулятивной суммой количества заказов и стоимости заказов по каждой дате."
   ]
  },
  {
   "cell_type": "code",
   "execution_count": 20,
   "metadata": {},
   "outputs": [],
   "source": [
    "data = ordersADaily.merge(ordersBDaily, left_on='date', right_on='date', how='left')\\\n",
    "    .merge(ordersACummulative, left_on='date', right_on='date', how='left')\\\n",
    "    .merge(ordersBCummulative, left_on='date', right_on='date', how='left')\\\n",
    "    .merge(visitorsADaily, left_on='date', right_on='date', how='left')\\\n",
    "    .merge(visitorsBDaily, left_on='date', right_on='date', how='left')\\\n",
    "    .merge(visitorsACummulative, left_on='date', right_on='date', how='left')\\\n",
    "    .merge(visitorsBCummulative, left_on='date', right_on='date', how='left')"
   ]
  },
  {
   "cell_type": "markdown",
   "metadata": {},
   "source": [
    "Объединили все восемь новых таблиц в одну"
   ]
  },
  {
   "cell_type": "code",
   "execution_count": 21,
   "metadata": {},
   "outputs": [
    {
     "name": "stdout",
     "output_type": "stream",
     "text": [
      "P-value в сравнении конверсии между группами:  0.0084\n",
      "Относительное различие в конверсии между группами:  0.138\n"
     ]
    }
   ],
   "source": [
    "ordersByUsersA = orders[orders['group'] == 'A'].groupby('visitorId', as_index=False).agg({'transactionId':'nunique'})\n",
    "ordersByUsersB = orders[orders['group'] == 'B'].groupby('visitorId', as_index=False).agg({'transactionId':'nunique'})\n",
    "\n",
    "sampleA = pd.concat([ordersByUsersA['transactionId'], pd.Series(0, index=np.arange(data['visitorsPerDateA'].sum() - len(ordersByUsersA['transactionId'])), name='transactionId')], axis=0)\n",
    "sampleB = pd.concat([ordersByUsersB['transactionId'], pd.Series(0, index=np.arange(data['visitorsPerDateB'].sum() - len(ordersByUsersB['transactionId'])), name='transactionId')], axis=0)\n",
    "\n",
    "print('P-value в сравнении конверсии между группами: ', '{:.4f}'.format(st.mannwhitneyu(sampleA, sampleB)[1]))\n",
    "print('Относительное различие в конверсии между группами: ', '{:.3f}'.format((data['transactionPerDateB'].sum() / data['visitorsPerDateB'].sum()) / (data['transactionPerDateA'].sum() / data['visitorsPerDateA'].sum())-1))"
   ]
  },
  {
   "cell_type": "markdown",
   "metadata": {},
   "source": [
    "P-value значительно меньше 0.05, потому нулевую гипотезу отвергаем. В конверсии между группами А и В есть значимые различия.\n",
    "Относительный прирост конверсии группы В относительно группы А составил 13,8%."
   ]
  },
  {
   "cell_type": "markdown",
   "metadata": {},
   "source": [
    "* Посчитайте статистическую значимость различий в среднем чеке заказа между группами по «сырым» данным. Сделайте выводы и предположения."
   ]
  },
  {
   "cell_type": "code",
   "execution_count": 22,
   "metadata": {},
   "outputs": [
    {
     "name": "stdout",
     "output_type": "stream",
     "text": [
      "P-value в сравнении средних чеков между группами:  0.365\n",
      "Относительный прирост среднего чека группы B:  0.259\n"
     ]
    }
   ],
   "source": [
    "print('P-value в сравнении средних чеков между группами: ', '{:.3f}'.format(st.mannwhitneyu(orders[orders['group'] == 'A']['revenue'], orders[orders['group'] == 'B']['revenue'])[1]))\n",
    "print('Относительный прирост среднего чека группы B: ', '{:.3f}'.format(orders[orders['group'] == 'B']['revenue'].mean() / orders[orders['group'] == 'A']['revenue'].mean()-1))"
   ]
  },
  {
   "cell_type": "markdown",
   "metadata": {},
   "source": [
    "P-value больше 0.05, значит нулевая гипотез подтверждена: статистически значимых отличий в среднем чеке между группами нет. Относительный прирост среднего чека группы В относительно группы А составил 25,9%."
   ]
  },
  {
   "cell_type": "markdown",
   "metadata": {},
   "source": [
    "* Посчитайте статистическую значимость различий в конверсии между группами по «очищенным» данным. Сделайте выводы и предположения."
   ]
  },
  {
   "cell_type": "code",
   "execution_count": 23,
   "metadata": {},
   "outputs": [
    {
     "name": "stdout",
     "output_type": "stream",
     "text": [
      "p-value в сравнении конверсии между очищенными группами:  0.00652\n",
      "Относительное различие в конверсии между очищенными группами:  0.173\n"
     ]
    }
   ],
   "source": [
    "usersWithManyOrders = pd.concat([ordersByUsersA[ordersByUsersA['transactionId'] > 2]['visitorId'], ordersByUsersB[ordersByUsersB['transactionId'] > 2]['visitorId']], axis=0)\n",
    "usersWithExpensiveOrders = orders[orders['revenue'] > 28000]['visitorId']\n",
    "abnormalUsers = pd.concat([usersWithManyOrders, usersWithExpensiveOrders], axis=0).drop_duplicates().sort_values()\n",
    "\n",
    "sampleAFiltered = pd.concat([ordersByUsersA[np.logical_not(ordersByUsersA['visitorId'].isin(abnormalUsers))]['transactionId'], pd.Series(0, index=np.arange(data['visitorsPerDateA'].sum() - len(ordersByUsersA['transactionId'])), name='transactionId')], axis=0)\n",
    "sampleBFiltered = pd.concat([ordersByUsersB[np.logical_not(ordersByUsersB['visitorId'].isin(abnormalUsers))]['transactionId'], pd.Series(0, index=np.arange(data['visitorsPerDateB'].sum() - len(ordersByUsersB['transactionId'])), name='transactionId')], axis=0)\n",
    "\n",
    "print('p-value в сравнении конверсии между очищенными группами: ', '{:.5f}'.format(st.mannwhitneyu(sampleAFiltered, sampleBFiltered)[1]))\n",
    "print('Относительное различие в конверсии между очищенными группами: ', '{:.3f}'.format(sampleBFiltered.mean()/sampleAFiltered.mean()-1))"
   ]
  },
  {
   "cell_type": "markdown",
   "metadata": {},
   "source": [
    "И по чистым данным статистическая разница между конверсией в группах А и В выявлена. Также относительная разница в конверсии между группами возросла до 17,3%."
   ]
  },
  {
   "cell_type": "markdown",
   "metadata": {},
   "source": [
    "* Посчитайте статистическую значимость различий в среднем чеке заказа между группами по «очищенным» данным. Сделайте выводы и предположения."
   ]
  },
  {
   "cell_type": "code",
   "execution_count": 24,
   "metadata": {},
   "outputs": [
    {
     "name": "stdout",
     "output_type": "stream",
     "text": [
      "p-value в сравнении средних чеков между очищенными группами:  0.369\n",
      "Относительный прирост среднего чека очищенной группы B:  -0.020\n"
     ]
    }
   ],
   "source": [
    "print('p-value в сравнении средних чеков между очищенными группами: ', '{:.3f}'.format(st.mannwhitneyu(orders[np.logical_and(orders['group'] == 'A',\n",
    "                np.logical_not(orders['visitorId'].isin(abnormalUsers)))]['revenue'],\n",
    "                orders[np.logical_and(orders['group'] == 'B', np.logical_not(orders['visitorId'].isin(abnormalUsers)))]['revenue'])[1]))\n",
    "\n",
    "print('Относительный прирост среднего чека очищенной группы B: ', '{:.3f}'.format(orders[np.logical_and(orders['group'] == 'B',\n",
    "               np.logical_not(orders['visitorId'].isin(abnormalUsers)))]['revenue'].mean() / orders[np.logical_and(orders['group'] == 'A',\n",
    "               np.logical_not(orders['visitorId'].isin(abnormalUsers)))]['revenue'].mean()-1))"
   ]
  },
  {
   "cell_type": "markdown",
   "metadata": {},
   "source": [
    "В очищенных данных не появилось значимых различий в среднем чеке между группами. Однако относительный прирост среднего чека в группе В снизился на 2%."
   ]
  },
  {
   "cell_type": "markdown",
   "metadata": {},
   "source": [
    "* Примите решение по результатам теста и объясните его. Варианты решений: 1. Остановить тест, зафиксировать победу одной из групп. 2. Остановить тест, зафиксировать отсутствие различий между группами. 3. Продолжить тест."
   ]
  },
  {
   "cell_type": "markdown",
   "metadata": {},
   "source": [
    "Тест можно остановить. В конверсии между группами А и В обозначилась статистически значимая разница в 17% в пользу группы В. Хотя средний чек группы В снизился, статистически это не имеет значения.\n",
    "\n",
    "Вывод: в результате теста, в группе В увеличились переходы из разряда посетителей в разряд покупателей, но большой выручки они пока не приносят."
   ]
  }
 ],
 "metadata": {
  "kernelspec": {
   "display_name": "Python 3",
   "language": "python",
   "name": "python3"
  },
  "language_info": {
   "codemirror_mode": {
    "name": "ipython",
    "version": 3
   },
   "file_extension": ".py",
   "mimetype": "text/x-python",
   "name": "python",
   "nbconvert_exporter": "python",
   "pygments_lexer": "ipython3",
   "version": "3.7.4"
  }
 },
 "nbformat": 4,
 "nbformat_minor": 2
}
