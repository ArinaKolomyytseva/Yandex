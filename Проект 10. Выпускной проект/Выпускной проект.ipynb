{
 "cells": [
  {
   "cell_type": "markdown",
   "metadata": {},
   "source": [
    "### Задача проекта\n",
    "\n",
    "Провести анализ клиентов регионального банка и выделить портрет клиентов, которые склонны уходить из банка.\n",
    "1. Проведите исследовательский анализ данных\n",
    "2. Выделите портреты клиентов, которые склонны уходить из банка\n",
    "3. Сформулируйте и проверьте статистические гипотезы"
   ]
  },
  {
   "cell_type": "markdown",
   "metadata": {},
   "source": [
    "### Оглавление\n",
    "\n",
    "1. [Проверка данных и их подготовка для анализа](#Проверка)\n",
    "2. [Исследовательский анализ данных](#Исследование)\n",
    "3. [Статистический анализ данных](#Статистика)\n",
    "4. [Кластеризация пользователей](#Кластеризация)\n",
    "5. [Машинное обучение и предсказание оттока](#Предсказания)\n",
    "6. [Выводы](#Выводы)\n",
    "7. [Список источников](#Источники)"
   ]
  },
  {
   "cell_type": "code",
   "execution_count": 103,
   "metadata": {},
   "outputs": [],
   "source": [
    "import pandas as pd\n",
    "import matplotlib.pyplot as plt\n",
    "import seaborn as sns\n",
    "data = pd.read_csv('bank_dataset.csv')"
   ]
  },
  {
   "cell_type": "markdown",
   "metadata": {},
   "source": [
    "### 1. Проверка данных и их подготовка для анализа <a id=\"Проверка\"></a>"
   ]
  },
  {
   "cell_type": "markdown",
   "metadata": {},
   "source": [
    "*Проверяем наполненность датасета информацией, правильные форматы столбцов*"
   ]
  },
  {
   "cell_type": "code",
   "execution_count": 104,
   "metadata": {},
   "outputs": [
    {
     "name": "stdout",
     "output_type": "stream",
     "text": [
      "<class 'pandas.core.frame.DataFrame'>\n",
      "RangeIndex: 10000 entries, 0 to 9999\n",
      "Data columns (total 12 columns):\n",
      "userid             10000 non-null int64\n",
      "score              10000 non-null int64\n",
      "City               10000 non-null object\n",
      "Gender             10000 non-null object\n",
      "Age                10000 non-null int64\n",
      "Objects            10000 non-null int64\n",
      "Balance            6383 non-null float64\n",
      "NumOfProducts      10000 non-null int64\n",
      "CreditCard         10000 non-null int64\n",
      "IsActiveMember     10000 non-null int64\n",
      "EstimatedSalary    10000 non-null float64\n",
      "Churn              10000 non-null int64\n",
      "dtypes: float64(2), int64(8), object(2)\n",
      "memory usage: 937.6+ KB\n"
     ]
    }
   ],
   "source": [
    "data.info()"
   ]
  },
  {
   "cell_type": "markdown",
   "metadata": {},
   "source": [
    "*Проверяем наличие дубликатов в данных. Они отсутствуют*"
   ]
  },
  {
   "cell_type": "code",
   "execution_count": 105,
   "metadata": {},
   "outputs": [
    {
     "data": {
      "text/plain": [
       "0"
      ]
     },
     "execution_count": 105,
     "metadata": {},
     "output_type": "execute_result"
    }
   ],
   "source": [
    "data.duplicated().sum()"
   ]
  },
  {
   "cell_type": "markdown",
   "metadata": {},
   "source": [
    "### 2. Исследовательский анализ данных <a id=\"Исследование\"></a>"
   ]
  },
  {
   "cell_type": "markdown",
   "metadata": {},
   "source": [
    "*Проверяем количество клиентов с нулевым балансом у групп оттока и постоянных клиентов*"
   ]
  },
  {
   "cell_type": "code",
   "execution_count": 106,
   "metadata": {},
   "outputs": [
    {
     "data": {
      "text/html": [
       "<div>\n",
       "<style scoped>\n",
       "    .dataframe tbody tr th:only-of-type {\n",
       "        vertical-align: middle;\n",
       "    }\n",
       "\n",
       "    .dataframe tbody tr th {\n",
       "        vertical-align: top;\n",
       "    }\n",
       "\n",
       "    .dataframe thead th {\n",
       "        text-align: right;\n",
       "    }\n",
       "</style>\n",
       "<table border=\"1\" class=\"dataframe\">\n",
       "  <thead>\n",
       "    <tr style=\"text-align: right;\">\n",
       "      <th></th>\n",
       "      <th>Churn</th>\n",
       "      <th>userid</th>\n",
       "    </tr>\n",
       "  </thead>\n",
       "  <tbody>\n",
       "    <tr>\n",
       "      <td>0</td>\n",
       "      <td>0</td>\n",
       "      <td>3117</td>\n",
       "    </tr>\n",
       "    <tr>\n",
       "      <td>1</td>\n",
       "      <td>1</td>\n",
       "      <td>500</td>\n",
       "    </tr>\n",
       "  </tbody>\n",
       "</table>\n",
       "</div>"
      ],
      "text/plain": [
       "   Churn  userid\n",
       "0      0    3117\n",
       "1      1     500"
      ]
     },
     "execution_count": 106,
     "metadata": {},
     "output_type": "execute_result"
    }
   ],
   "source": [
    "data[data['Balance'].isna()].groupby('Churn')['userid'].count().reset_index()"
   ]
  },
  {
   "cell_type": "markdown",
   "metadata": {},
   "source": [
    "##### Вывод\n",
    "В столбце баланса карты есть пропуски. Почитав комментарии тимлида, узнала, что эти пропуски - нулевой баланс, есть и у оттока, и у постоянных клиентов, причем у постоянных клиентов в разы больше. У оттока причины понятны, сняли деньги, закрыли карту. У постоянных клиентов может существовать другая, более удобная и выгодная карта, на которую переводятся все деньги с этой карты."
   ]
  },
  {
   "cell_type": "markdown",
   "metadata": {},
   "source": [
    "*Для упрощения работы с данными добавляем индексы по городам и полу, делим группы оттока и постоянных клиентов на 2 разных датасета*"
   ]
  },
  {
   "cell_type": "code",
   "execution_count": 107,
   "metadata": {},
   "outputs": [],
   "source": [
    "data.loc[data['City'] == 'Ярославль', 'City_code'] = 1\n",
    "data.loc[data['City'] == 'Рыбинск', 'City_code'] = 2\n",
    "data.loc[data['City'] == 'Ростов Великий', 'City_code'] = 3\n",
    "data.loc[data['Gender'] == 'М', 'Gender_code'] = 1\n",
    "data.loc[data['Gender'] == 'Ж', 'Gender_code'] = 0\n",
    "\n",
    "not_churn = data[data['Churn'] == 0]\n",
    "churn = data[data['Churn'] == 1]"
   ]
  },
  {
   "cell_type": "markdown",
   "metadata": {},
   "source": [
    "*Сравниваем средние значения по столбцам по 2м новым датасетам*"
   ]
  },
  {
   "cell_type": "code",
   "execution_count": 108,
   "metadata": {},
   "outputs": [
    {
     "data": {
      "text/html": [
       "<div>\n",
       "<style scoped>\n",
       "    .dataframe tbody tr th:only-of-type {\n",
       "        vertical-align: middle;\n",
       "    }\n",
       "\n",
       "    .dataframe tbody tr th {\n",
       "        vertical-align: top;\n",
       "    }\n",
       "\n",
       "    .dataframe thead th {\n",
       "        text-align: right;\n",
       "    }\n",
       "</style>\n",
       "<table border=\"1\" class=\"dataframe\">\n",
       "  <thead>\n",
       "    <tr style=\"text-align: right;\">\n",
       "      <th></th>\n",
       "      <th>set</th>\n",
       "      <th>not_churn</th>\n",
       "      <th>churn</th>\n",
       "    </tr>\n",
       "  </thead>\n",
       "  <tbody>\n",
       "    <tr>\n",
       "      <td>0</td>\n",
       "      <td>userid</td>\n",
       "      <td>15733903.88</td>\n",
       "      <td>15732787.96</td>\n",
       "    </tr>\n",
       "    <tr>\n",
       "      <td>1</td>\n",
       "      <td>score</td>\n",
       "      <td>651.85</td>\n",
       "      <td>645.35</td>\n",
       "    </tr>\n",
       "    <tr>\n",
       "      <td>2</td>\n",
       "      <td>Age</td>\n",
       "      <td>37.41</td>\n",
       "      <td>44.84</td>\n",
       "    </tr>\n",
       "    <tr>\n",
       "      <td>3</td>\n",
       "      <td>Objects</td>\n",
       "      <td>5.03</td>\n",
       "      <td>4.93</td>\n",
       "    </tr>\n",
       "    <tr>\n",
       "      <td>4</td>\n",
       "      <td>Balance</td>\n",
       "      <td>119535.86</td>\n",
       "      <td>120746.97</td>\n",
       "    </tr>\n",
       "    <tr>\n",
       "      <td>5</td>\n",
       "      <td>NumOfProducts</td>\n",
       "      <td>1.54</td>\n",
       "      <td>1.48</td>\n",
       "    </tr>\n",
       "    <tr>\n",
       "      <td>6</td>\n",
       "      <td>CreditCard</td>\n",
       "      <td>0.71</td>\n",
       "      <td>0.70</td>\n",
       "    </tr>\n",
       "    <tr>\n",
       "      <td>7</td>\n",
       "      <td>IsActiveMember</td>\n",
       "      <td>0.55</td>\n",
       "      <td>0.36</td>\n",
       "    </tr>\n",
       "    <tr>\n",
       "      <td>8</td>\n",
       "      <td>EstimatedSalary</td>\n",
       "      <td>99738.39</td>\n",
       "      <td>101465.68</td>\n",
       "    </tr>\n",
       "    <tr>\n",
       "      <td>9</td>\n",
       "      <td>Churn</td>\n",
       "      <td>0.00</td>\n",
       "      <td>1.00</td>\n",
       "    </tr>\n",
       "    <tr>\n",
       "      <td>10</td>\n",
       "      <td>City_code</td>\n",
       "      <td>1.68</td>\n",
       "      <td>2.00</td>\n",
       "    </tr>\n",
       "    <tr>\n",
       "      <td>11</td>\n",
       "      <td>Gender_code</td>\n",
       "      <td>0.57</td>\n",
       "      <td>0.44</td>\n",
       "    </tr>\n",
       "  </tbody>\n",
       "</table>\n",
       "</div>"
      ],
      "text/plain": [
       "                set    not_churn        churn\n",
       "0            userid  15733903.88  15732787.96\n",
       "1             score       651.85       645.35\n",
       "2               Age        37.41        44.84\n",
       "3           Objects         5.03         4.93\n",
       "4           Balance    119535.86    120746.97\n",
       "5     NumOfProducts         1.54         1.48\n",
       "6        CreditCard         0.71         0.70\n",
       "7    IsActiveMember         0.55         0.36\n",
       "8   EstimatedSalary     99738.39    101465.68\n",
       "9             Churn         0.00         1.00\n",
       "10        City_code         1.68         2.00\n",
       "11      Gender_code         0.57         0.44"
      ]
     },
     "execution_count": 108,
     "metadata": {},
     "output_type": "execute_result"
    }
   ],
   "source": [
    "not_churn_mean = not_churn.mean().round(2).reset_index()\n",
    "churn_mean = churn.mean().round(2).reset_index()\n",
    "mean_df = not_churn_mean.merge(churn_mean, on='index')\n",
    "mean_df.columns = ['set','not_churn','churn']\n",
    "mean_df"
   ]
  },
  {
   "cell_type": "markdown",
   "metadata": {},
   "source": [
    "##### Вывод\n",
    "Судя по среднему значению, разница между оттоком и постоянными клиентами значительна в возрасте и активности клиента."
   ]
  },
  {
   "cell_type": "markdown",
   "metadata": {},
   "source": [
    "*Строим графики количественных данных по количеству клиентов по 2м новым датасетам*"
   ]
  },
  {
   "cell_type": "code",
   "execution_count": 109,
   "metadata": {},
   "outputs": [
    {
     "data": {
      "image/png": "[encoded data removed]",
      "text/plain": [
       "<Figure size 1440x360 with 8 Axes>"
      ]
     },
     "metadata": {
      "needs_background": "light"
     },
     "output_type": "display_data"
    }
   ],
   "source": [
    "plt.subplots(figsize=(20,5))\n",
    "one = 0\n",
    "plt.style.use('seaborn-dark-palette')\n",
    "for i in churn.columns:\n",
    "    if churn[i].dtype != ('O') and i not in ('userid','Churn','City_code','Gender_code'):\n",
    "        one += 1\n",
    "        sns.barplot(data['Churn'], data[i], ax=plt.subplot(1,10,one), alpha=0.6, ci=None, palette=\"Blues_d\")\n",
    "    plt.tight_layout(0.5)\n",
    "    plt.xticks(fontsize=14)\n",
    "    plt.yticks(fontsize=14)\n",
    "    plt.xlabel('Статус оттока')"
   ]
  },
  {
   "cell_type": "markdown",
   "metadata": {},
   "source": [
    "##### Вывод\n",
    "По графикам количества клиентов в двух группах оттока также видим существенную разницу только по возрасту и активности клиента. Не самые показательные данные."
   ]
  },
  {
   "cell_type": "markdown",
   "metadata": {},
   "source": [
    "*Строим графики качественных данных по доле значений в столбце по 2м новым датасетам*"
   ]
  },
  {
   "cell_type": "code",
   "execution_count": 110,
   "metadata": {},
   "outputs": [
    {
     "data": {
      "text/plain": [
       "<matplotlib.legend.Legend at 0x2cb8cf28248>"
      ]
     },
     "execution_count": 110,
     "metadata": {},
     "output_type": "execute_result"
    },
    {
     "data": {
      "image/png": "[encoded data removed]",
      "text/plain": [
       "<Figure size 504x216 with 2 Axes>"
      ]
     },
     "metadata": {
      "needs_background": "light"
     },
     "output_type": "display_data"
    }
   ],
   "source": [
    "plt.subplots(figsize=(7,3))\n",
    "one = 0\n",
    "plt.style.use('seaborn-dark-palette')\n",
    "\n",
    "for i in churn.columns:\n",
    "    if churn[i].dtype == ('O'):\n",
    "        one += 1\n",
    "        new1 = (churn.groupby(i)['Churn'].count() / len(churn[i]) * 100).reset_index()\n",
    "        new2 = (not_churn.groupby(i)['Churn'].count() / len(not_churn[i]) * 100).reset_index()\n",
    "        ax = sns.barplot(x=new1[i], y=new1['Churn'], ax=plt.subplot(1,2,one), alpha=0.6, label='Отток', color='blue')\n",
    "        sns.barplot(x=new2[i], y=new2['Churn'], ax=ax, alpha=0.6, label='Стаби-\\nльные', color='gray')\n",
    "    plt.tight_layout(0.5)\n",
    "    plt.xticks(fontsize=10)\n",
    "    plt.yticks(fontsize=10)\n",
    "plt.legend()"
   ]
  },
  {
   "cell_type": "markdown",
   "metadata": {},
   "source": [
    "##### Вывод\n",
    "Сравнив доли по городам и полу в группах оттока и постоянных покупателей можно сделать выводы:\n",
    "* наибольшее количество клиентов из группы оттока наблюдается в городах Ростов Великий и Ярославль\n",
    "* наибольшее количество стабильных клиентов проживает в Ярославле\n",
    "* в группе оттока женщин на 10% больше, чем мужчин. У стабильных клиентов мужчин на 15% больше, чем женщин"
   ]
  },
  {
   "cell_type": "markdown",
   "metadata": {},
   "source": [
    "*Строим графики качественных данных по проценту оттока в общем количестве клиентов*"
   ]
  },
  {
   "cell_type": "code",
   "execution_count": 111,
   "metadata": {},
   "outputs": [
    {
     "data": {
      "text/plain": [
       "<matplotlib.legend.Legend at 0x2cb8d19fac8>"
      ]
     },
     "execution_count": 111,
     "metadata": {},
     "output_type": "execute_result"
    },
    {
     "data": {
      "image/png": "[encoded data removed]",
      "text/plain": [
       "<Figure size 504x216 with 2 Axes>"
      ]
     },
     "metadata": {
      "needs_background": "light"
     },
     "output_type": "display_data"
    }
   ],
   "source": [
    "plt.subplots(figsize=(7,3))\n",
    "one = 0\n",
    "for i in churn.columns:\n",
    "    if churn[i].dtype == ('O'):\n",
    "        one += 1\n",
    "        new3 = (churn.groupby(i)['Churn'].count() / len(data[i]) * 100).reset_index()\n",
    "        sns.barplot(x=new3[i], y=new3['Churn'], ax=plt.subplot(1,2,one), alpha=0.6, label='Процент оттока\\nв общей массе', color='darkblue')      \n",
    "    plt.tight_layout(0.5)\n",
    "    plt.xticks(fontsize=10)\n",
    "    plt.yticks(fontsize=10)\n",
    "plt.legend()"
   ]
  },
  {
   "cell_type": "markdown",
   "metadata": {},
   "source": [
    "##### Вывод\n",
    "В общей массе процент оттока в Ростове Великом и Ярославле достигает 8%. Процент оттока женщин составляет почти 15%."
   ]
  },
  {
   "cell_type": "markdown",
   "metadata": {},
   "source": [
    "#### Выводы:\n",
    "В столбце баланса карты есть пропуски. Почитав комментарии тимлида, узнала, что эти пропуски - нулевой баланс, есть и у оттока, и у постоянных клиентов, причем у постоянных клиентов в разы больше. У оттока причины понятны, сняли деньги, закрыли карту. У постоянных клиентов может существовать другая, более удобная и выгодная карта, на которую переводятся все деньги с этой карты.\n",
    "\n",
    "Судя по среднему значению, разница между оттоком и постоянными клиентами значительна в возрасте и активности клиента.\n",
    "\n",
    "По графикам количества клиентов в двух группах оттока также видим существенную разницу только по возрасту и активности клиента. В общей массе процент оттока в Ростове Великом и Ярославле достигает 8%. Процент оттока женщин составляет почти 15%.\n",
    "\n",
    "На данном этапе посмотрим, что можно сказать об уходящем клиенте. \n",
    "\n",
    "Скорее всего это будет женщина, живущая в Ростове Великом и Ярославле. По большей вероятности ей около 45 лет и она неохотно пользуется продуктами банка.\n",
    "Средние значения и доли групп размыты и не дают точной картинки. Для выделения более четких черт портрета клиента из оттока нужно воспользоваться статистическими методами анализа данных."
   ]
  },
  {
   "cell_type": "markdown",
   "metadata": {},
   "source": [
    "### 3. Статистический анализ данных <a id=\"Статистика\"></a>"
   ]
  },
  {
   "cell_type": "markdown",
   "metadata": {},
   "source": [
    "*Для статистических расчетов заполняем все пропуски в датасетах нулями, удаляем столбцы с качественными параметрами*"
   ]
  },
  {
   "cell_type": "code",
   "execution_count": 112,
   "metadata": {},
   "outputs": [],
   "source": [
    "not_churn_st = not_churn.drop(['userid','Churn','City','Gender'], axis=1).fillna(0)\n",
    "churn_st = churn.drop(['userid','Churn','City','Gender'], axis=1).fillna(0)"
   ]
  },
  {
   "cell_type": "markdown",
   "metadata": {},
   "source": [
    "*Для сравнения количественных значений применим статистический тест о равенстве двух средних*\n",
    "\n",
    "*Нулевая гипотеза: средние значения двух генеральных совокупностей: группы с оттоком клиентов и без - по взятым из них выборкам равны. Проверим, значима разница между ними или нет*"
   ]
  },
  {
   "cell_type": "code",
   "execution_count": 113,
   "metadata": {},
   "outputs": [
    {
     "name": "stdout",
     "output_type": "stream",
     "text": [
      "По столбцу  score нулевую гипотезу отвергаем, разница в средней ощутима\n",
      "По столбцу  Age нулевую гипотезу отвергаем, разница в средней ощутима\n",
      "По столбцу  Objects нулевую гипотезу подтверждаем, средняя равна\n",
      "По столбцу  Balance нулевую гипотезу отвергаем, разница в средней ощутима\n",
      "По столбцу  NumOfProducts нулевую гипотезу отвергаем, разница в средней ощутима\n",
      "По столбцу  CreditCard нулевую гипотезу подтверждаем, средняя равна\n",
      "По столбцу  IsActiveMember нулевую гипотезу отвергаем, разница в средней ощутима\n",
      "По столбцу  EstimatedSalary нулевую гипотезу подтверждаем, средняя равна\n",
      "По столбцу  City_code нулевую гипотезу отвергаем, разница в средней ощутима\n",
      "По столбцу  Gender_code нулевую гипотезу отвергаем, разница в средней ощутима\n"
     ]
    }
   ],
   "source": [
    "import scipy.stats as st\n",
    "alpha = 0.05\n",
    "for i in churn_st.columns:\n",
    "    res = st.ttest_ind(not_churn_st[i], churn_st[i])\n",
    "    if res.pvalue >= alpha:\n",
    "        print('По столбцу ', i , 'нулевую гипотезу подтверждаем, средняя равна')\n",
    "    else:\n",
    "        print('По столбцу ', i , 'нулевую гипотезу отвергаем, разница в средней ощутима')"
   ]
  },
  {
   "cell_type": "markdown",
   "metadata": {},
   "source": [
    "##### Вывод\n",
    "По столбцам \"Кредитный рейтинг\", \"Возраст\", \"Баланс карты\", \"Количество продуктов\", \"Активный клиент\", \"Город\", \"Пол\" можем сделать вывод, что разница в средних ощутима для постоянных клиентов и из группы оттока. "
   ]
  },
  {
   "cell_type": "markdown",
   "metadata": {},
   "source": [
    "*Строим матрицу корреляций*"
   ]
  },
  {
   "cell_type": "code",
   "execution_count": 114,
   "metadata": {},
   "outputs": [
    {
     "data": {
      "text/html": [
       "<div>\n",
       "<style scoped>\n",
       "    .dataframe tbody tr th:only-of-type {\n",
       "        vertical-align: middle;\n",
       "    }\n",
       "\n",
       "    .dataframe tbody tr th {\n",
       "        vertical-align: top;\n",
       "    }\n",
       "\n",
       "    .dataframe thead th {\n",
       "        text-align: right;\n",
       "    }\n",
       "</style>\n",
       "<table border=\"1\" class=\"dataframe\">\n",
       "  <thead>\n",
       "    <tr style=\"text-align: right;\">\n",
       "      <th></th>\n",
       "      <th>score</th>\n",
       "      <th>Age</th>\n",
       "      <th>Objects</th>\n",
       "      <th>Balance</th>\n",
       "      <th>NumOfProducts</th>\n",
       "      <th>EstimatedSalary</th>\n",
       "    </tr>\n",
       "  </thead>\n",
       "  <tbody>\n",
       "    <tr>\n",
       "      <td>score</td>\n",
       "      <td>1.000000</td>\n",
       "      <td>-0.003965</td>\n",
       "      <td>0.000842</td>\n",
       "      <td>-0.004744</td>\n",
       "      <td>0.012238</td>\n",
       "      <td>-0.001384</td>\n",
       "    </tr>\n",
       "    <tr>\n",
       "      <td>Age</td>\n",
       "      <td>-0.003965</td>\n",
       "      <td>1.000000</td>\n",
       "      <td>-0.009997</td>\n",
       "      <td>-0.012822</td>\n",
       "      <td>-0.030680</td>\n",
       "      <td>-0.007201</td>\n",
       "    </tr>\n",
       "    <tr>\n",
       "      <td>Objects</td>\n",
       "      <td>0.000842</td>\n",
       "      <td>-0.009997</td>\n",
       "      <td>1.000000</td>\n",
       "      <td>0.005827</td>\n",
       "      <td>0.013444</td>\n",
       "      <td>0.007784</td>\n",
       "    </tr>\n",
       "    <tr>\n",
       "      <td>Balance</td>\n",
       "      <td>-0.004744</td>\n",
       "      <td>-0.012822</td>\n",
       "      <td>0.005827</td>\n",
       "      <td>1.000000</td>\n",
       "      <td>-0.001027</td>\n",
       "      <td>-0.001856</td>\n",
       "    </tr>\n",
       "    <tr>\n",
       "      <td>NumOfProducts</td>\n",
       "      <td>0.012238</td>\n",
       "      <td>-0.030680</td>\n",
       "      <td>0.013444</td>\n",
       "      <td>-0.001027</td>\n",
       "      <td>1.000000</td>\n",
       "      <td>0.014204</td>\n",
       "    </tr>\n",
       "    <tr>\n",
       "      <td>EstimatedSalary</td>\n",
       "      <td>-0.001384</td>\n",
       "      <td>-0.007201</td>\n",
       "      <td>0.007784</td>\n",
       "      <td>-0.001856</td>\n",
       "      <td>0.014204</td>\n",
       "      <td>1.000000</td>\n",
       "    </tr>\n",
       "  </tbody>\n",
       "</table>\n",
       "</div>"
      ],
      "text/plain": [
       "                    score       Age   Objects   Balance  NumOfProducts  \\\n",
       "score            1.000000 -0.003965  0.000842 -0.004744       0.012238   \n",
       "Age             -0.003965  1.000000 -0.009997 -0.012822      -0.030680   \n",
       "Objects          0.000842 -0.009997  1.000000  0.005827       0.013444   \n",
       "Balance         -0.004744 -0.012822  0.005827  1.000000      -0.001027   \n",
       "NumOfProducts    0.012238 -0.030680  0.013444 -0.001027       1.000000   \n",
       "EstimatedSalary -0.001384 -0.007201  0.007784 -0.001856       0.014204   \n",
       "\n",
       "                 EstimatedSalary  \n",
       "score                  -0.001384  \n",
       "Age                    -0.007201  \n",
       "Objects                 0.007784  \n",
       "Balance                -0.001856  \n",
       "NumOfProducts           0.014204  \n",
       "EstimatedSalary         1.000000  "
      ]
     },
     "execution_count": 114,
     "metadata": {},
     "output_type": "execute_result"
    }
   ],
   "source": [
    "data_cor = data[['score','Age','Objects','Balance','NumOfProducts','EstimatedSalary']]\n",
    "data_cor.corr()"
   ]
  },
  {
   "cell_type": "markdown",
   "metadata": {},
   "source": [
    "##### Вывод\n",
    "Проверив корреляцию по количественным данным, особых зависимостей между ними выявлено не было."
   ]
  },
  {
   "cell_type": "markdown",
   "metadata": {},
   "source": [
    "*Строим графики данных по доле количества пользователей в группах с оттоком и без него*"
   ]
  },
  {
   "cell_type": "code",
   "execution_count": 115,
   "metadata": {},
   "outputs": [
    {
     "name": "stderr",
     "output_type": "stream",
     "text": [
      "C:\\Users\\Arina\\Anaconda3\\lib\\site-packages\\statsmodels\\nonparametric\\kde.py:447: RuntimeWarning: invalid value encountered in greater\n",
      "  X = X[np.logical_and(X > clip[0], X < clip[1])] # won't work for two columns.\n",
      "C:\\Users\\Arina\\Anaconda3\\lib\\site-packages\\statsmodels\\nonparametric\\kde.py:447: RuntimeWarning: invalid value encountered in less\n",
      "  X = X[np.logical_and(X > clip[0], X < clip[1])] # won't work for two columns.\n"
     ]
    },
    {
     "data": {
      "text/plain": [
       "<matplotlib.legend.Legend at 0x2cb8d1fa9c8>"
      ]
     },
     "execution_count": 115,
     "metadata": {},
     "output_type": "execute_result"
    },
    {
     "data": {
      "image/png": "[encoded data removed]",
      "text/plain": [
       "<Figure size 1152x360 with 7 Axes>"
      ]
     },
     "metadata": {
      "needs_background": "light"
     },
     "output_type": "display_data"
    }
   ],
   "source": [
    "plt.subplots(figsize=(16,5))\n",
    "one = 0\n",
    "legend = ['Стаби-\\nльные', 'Отток']\n",
    "for i in churn.columns:\n",
    "    if i in ('score','Age','Balance','NumOfProducts','IsActiveMember'):\n",
    "        one += 1\n",
    "        ax = sns.distplot(not_churn[i], bins=15, ax=plt.subplot(1,7,one), hist=False, label='')\n",
    "        sns.distplot(churn[i], bins=15, ax=ax, hist=False, label='')\n",
    "    elif i in ('City','Gender'):\n",
    "        one += 1\n",
    "        new1 = (churn.groupby(i)['Churn'].count() / len(churn[i]) * 100).reset_index()\n",
    "        new2 = (not_churn.groupby(i)['Churn'].count() / len(not_churn[i]) * 100).reset_index()\n",
    "        axe = sns.barplot(x=new1[i], y=new1['Churn'], ax=plt.subplot(1,7,one), alpha=0.6, label='', color='g')\n",
    "        sns.barplot(x=new2[i], y=new2['Churn'], ax=axe, alpha=0.6, label='', color='b')\n",
    "    plt.tight_layout(0.01)\n",
    "    plt.xticks(fontsize=14, rotation=40, horizontalalignment='right')\n",
    "    plt.yticks(fontsize=14)\n",
    "plt.legend(legend, loc='best', fontsize=12)"
   ]
  },
  {
   "cell_type": "markdown",
   "metadata": {},
   "source": [
    "##### Вывод\n",
    "Рассмотрим те признаки, по которым разница в группах оказалась значима:\n",
    "\"Кредитный рейтинг\", \"Город\", \"Пол\", \"Возраст\", \"Баланс карты\", \"Количество продуктов\", \"Активный клиент\".\n",
    "\n",
    "По плотности распределения можно заметить, что:\n",
    "* кредитный рейтинг у стабильных клиентов в среднем выше, чем у группы оттока\n",
    "* большинство клиентов из группы оттока проживает в Ростове Великом и Ярославле\n",
    "* в группе оттока женщин больше, чем мужчин\n",
    "* с 45 лет количество людей в группе стабильных клиентов резко начинает сокращаться, клиенты начинают уходить\n",
    "* максимальный баланс карты у группы стабильных клиентов незначительно проигрывает максимальному балансу группы оттока, но на продолжении всего периода владения продукта баланс идет нога в ногу\n",
    "* интересно, что стабильные клиенты предпочитают иметь не более двух продуктов банка, в то время как клиенты из группы оттока расширяют свою линейку до четырех\n",
    "* группа оттока пассивнее постоянных клиентов"
   ]
  },
  {
   "cell_type": "markdown",
   "metadata": {},
   "source": [
    "### 4. Кластеризация пользователей <a id=\"Кластеризация\"></a>"
   ]
  },
  {
   "cell_type": "markdown",
   "metadata": {},
   "source": [
    "*Заполним нулями все пропуски в столбце \"Баланс карты\" для стандартизации значений признаков и дальнейшего построения дендрограммы кластеризации.*"
   ]
  },
  {
   "cell_type": "code",
   "execution_count": 116,
   "metadata": {},
   "outputs": [],
   "source": [
    "data.loc[data['Balance'].isna(),'Balance'] = 0"
   ]
  },
  {
   "cell_type": "markdown",
   "metadata": {},
   "source": [
    "*Стандартизируем данные*"
   ]
  },
  {
   "cell_type": "code",
   "execution_count": 117,
   "metadata": {},
   "outputs": [],
   "source": [
    "from sklearn.preprocessing import StandardScaler\n",
    "scaler = StandardScaler()\n",
    "sc = scaler.fit_transform(data.drop(columns=['userid','Churn','City','Gender']))"
   ]
  },
  {
   "cell_type": "markdown",
   "metadata": {},
   "source": [
    "*Строим график дендрограммы для агломеративной иерархической кластеризации*"
   ]
  },
  {
   "cell_type": "code",
   "execution_count": 118,
   "metadata": {},
   "outputs": [
    {
     "data": {
      "image/png": "[encoded data removed]",
      "text/plain": [
       "<Figure size 1080x720 with 1 Axes>"
      ]
     },
     "metadata": {
      "needs_background": "light"
     },
     "output_type": "display_data"
    }
   ],
   "source": [
    "from scipy.cluster.hierarchy import dendrogram, linkage\n",
    "linked = linkage(sc, method='ward')\n",
    "plt.figure(figsize=(15,10))\n",
    "dendrogram (linked, orientation='top')\n",
    "plt.title('Иерархическая кластеризация для оттока клиентов банка', fontsize=14)\n",
    "plt.show()"
   ]
  },
  {
   "cell_type": "markdown",
   "metadata": {},
   "source": [
    "##### Вывод \n",
    "Получилось 4 кластера. Теперь по ним мы сможем провести ранжирование всех клиентов и посмотреть, какие признаки присущи большинству клиентов из группы оттока, выявить закономерности и сформулировать портрет таких клиентов."
   ]
  },
  {
   "cell_type": "markdown",
   "metadata": {},
   "source": [
    "*Проводим кластеризацию пользователей методом K-Means*"
   ]
  },
  {
   "cell_type": "code",
   "execution_count": 119,
   "metadata": {},
   "outputs": [
    {
     "data": {
      "text/html": [
       "<div>\n",
       "<style scoped>\n",
       "    .dataframe tbody tr th:only-of-type {\n",
       "        vertical-align: middle;\n",
       "    }\n",
       "\n",
       "    .dataframe tbody tr th {\n",
       "        vertical-align: top;\n",
       "    }\n",
       "\n",
       "    .dataframe thead th {\n",
       "        text-align: right;\n",
       "    }\n",
       "</style>\n",
       "<table border=\"1\" class=\"dataframe\">\n",
       "  <thead>\n",
       "    <tr style=\"text-align: right;\">\n",
       "      <th></th>\n",
       "      <th>claster</th>\n",
       "      <th>score</th>\n",
       "      <th>Age</th>\n",
       "      <th>Objects</th>\n",
       "      <th>Balance</th>\n",
       "      <th>NumOfProducts</th>\n",
       "      <th>CreditCard</th>\n",
       "      <th>IsActiveMember</th>\n",
       "      <th>EstimatedSalary</th>\n",
       "      <th>Churn</th>\n",
       "      <th>City_code</th>\n",
       "      <th>Gender_code</th>\n",
       "    </tr>\n",
       "  </thead>\n",
       "  <tbody>\n",
       "    <tr>\n",
       "      <td>0</td>\n",
       "      <td>0</td>\n",
       "      <td>649.3059</td>\n",
       "      <td>38.7445</td>\n",
       "      <td>4.9307</td>\n",
       "      <td>64534.3545</td>\n",
       "      <td>1.5335</td>\n",
       "      <td>0.0000</td>\n",
       "      <td>0.5254</td>\n",
       "      <td>101292.1293</td>\n",
       "      <td>0.1651</td>\n",
       "      <td>1.3423</td>\n",
       "      <td>0.5502</td>\n",
       "    </tr>\n",
       "    <tr>\n",
       "      <td>1</td>\n",
       "      <td>1</td>\n",
       "      <td>651.6302</td>\n",
       "      <td>39.7050</td>\n",
       "      <td>5.0033</td>\n",
       "      <td>120704.8820</td>\n",
       "      <td>1.5601</td>\n",
       "      <td>0.7353</td>\n",
       "      <td>0.4956</td>\n",
       "      <td>101287.3131</td>\n",
       "      <td>0.3175</td>\n",
       "      <td>2.9233</td>\n",
       "      <td>0.5251</td>\n",
       "    </tr>\n",
       "    <tr>\n",
       "      <td>2</td>\n",
       "      <td>2</td>\n",
       "      <td>651.0101</td>\n",
       "      <td>38.5874</td>\n",
       "      <td>4.9947</td>\n",
       "      <td>121847.8111</td>\n",
       "      <td>1.1406</td>\n",
       "      <td>0.9996</td>\n",
       "      <td>0.5291</td>\n",
       "      <td>99412.0888</td>\n",
       "      <td>0.1682</td>\n",
       "      <td>1.2724</td>\n",
       "      <td>0.5725</td>\n",
       "    </tr>\n",
       "    <tr>\n",
       "      <td>3</td>\n",
       "      <td>3</td>\n",
       "      <td>650.0374</td>\n",
       "      <td>38.5744</td>\n",
       "      <td>5.1024</td>\n",
       "      <td>5704.1086</td>\n",
       "      <td>1.8181</td>\n",
       "      <td>0.9989</td>\n",
       "      <td>0.5144</td>\n",
       "      <td>98519.4118</td>\n",
       "      <td>0.1528</td>\n",
       "      <td>1.3221</td>\n",
       "      <td>0.5403</td>\n",
       "    </tr>\n",
       "  </tbody>\n",
       "</table>\n",
       "</div>"
      ],
      "text/plain": [
       "   claster     score      Age  Objects      Balance  NumOfProducts  \\\n",
       "0        0  649.3059  38.7445   4.9307   64534.3545         1.5335   \n",
       "1        1  651.6302  39.7050   5.0033  120704.8820         1.5601   \n",
       "2        2  651.0101  38.5874   4.9947  121847.8111         1.1406   \n",
       "3        3  650.0374  38.5744   5.1024    5704.1086         1.8181   \n",
       "\n",
       "   CreditCard  IsActiveMember  EstimatedSalary   Churn  City_code  Gender_code  \n",
       "0      0.0000          0.5254      101292.1293  0.1651     1.3423       0.5502  \n",
       "1      0.7353          0.4956      101287.3131  0.3175     2.9233       0.5251  \n",
       "2      0.9996          0.5291       99412.0888  0.1682     1.2724       0.5725  \n",
       "3      0.9989          0.5144       98519.4118  0.1528     1.3221       0.5403  "
      ]
     },
     "execution_count": 119,
     "metadata": {},
     "output_type": "execute_result"
    }
   ],
   "source": [
    "from sklearn.cluster import KMeans\n",
    "km = KMeans(n_clusters=4, random_state=12345)\n",
    "labels = km.fit_predict(sc)\n",
    "data['claster'] = labels\n",
    "data.drop(columns=['userid']).groupby(['claster'], as_index=False).mean().round(4)"
   ]
  },
  {
   "cell_type": "code",
   "execution_count": 120,
   "metadata": {},
   "outputs": [
    {
     "data": {
      "text/plain": [
       "claster  City_code\n",
       "0        1.0          1467\n",
       "         2.0           751\n",
       "         3.0             5\n",
       "1        2.0           208\n",
       "         3.0          2504\n",
       "2        1.0          1661\n",
       "         2.0           622\n",
       "3        1.0          1886\n",
       "         2.0           896\n",
       "Name: City_code, dtype: int64"
      ]
     },
     "execution_count": 120,
     "metadata": {},
     "output_type": "execute_result"
    }
   ],
   "source": [
    "data.groupby(['claster','City_code'])['City_code'].count()"
   ]
  },
  {
   "cell_type": "markdown",
   "metadata": {},
   "source": [
    "##### Вывод \n",
    "Самой проблемной получилась группа 1. От остальных групп ее отличает:\n",
    "* самый высокий кредитный рейтинг\n",
    "* самый высокий возрастной показатель\n",
    "* второе место по балансу карты. Стоит учесть при условии, что у кластера 0 баланс в 2 раза меньше, а у кластера 3 - почти незначительный. Учитывая, что мы ранее заменили все пропуски на 0, скорее всего именно группа 3 не хранит деньги на карте и либо их сразу снимает, либо переводит на другую карту\n",
    "* эта группа наименее активна\n",
    "* по большей части клиенты проживают в Ростове Великом."
   ]
  },
  {
   "cell_type": "markdown",
   "metadata": {},
   "source": [
    "### 5. Машинное обучение и предсказание оттока <a id=\"Предсказания\"></a>"
   ]
  },
  {
   "cell_type": "markdown",
   "metadata": {},
   "source": [
    "**Попробуем еще раз обучить модель)**"
   ]
  },
  {
   "cell_type": "markdown",
   "metadata": {},
   "source": [
    "Так как данные по оттоку категориальные, решаем задачу классификации. Т.е. применимые модели для обучения: Решающее дерево (DecisionTreeClassifier), Случайный лес (RandomForestClassifier), Логистическая регрессия (LogisticRegression).\n",
    "В предложенных данных нам дали модель Решающего дерева с глубиной в 4 уровня. Сравним 3 модели и проверим по метрикам, какая из них лучше справится с предсказанием оттока."
   ]
  },
  {
   "cell_type": "code",
   "execution_count": 121,
   "metadata": {},
   "outputs": [],
   "source": [
    "from sklearn.metrics import accuracy_score\n",
    "from sklearn.metrics import precision_score\n",
    "from sklearn.metrics import recall_score\n",
    "from sklearn.metrics import f1_score\n",
    "from sklearn.ensemble import RandomForestClassifier\n",
    "from sklearn.linear_model import LogisticRegression\n",
    "from sklearn.model_selection import train_test_split\n",
    "from joblib import load\n",
    "import joblib\n",
    "from sklearn.tree import DecisionTreeClassifier"
   ]
  },
  {
   "cell_type": "markdown",
   "metadata": {},
   "source": [
    "*Обозначим 2 датасета для тестовой и валидационной выборки. Столбцы 'City','Gender' удаляем из-за категориальных данных. Столбец 'userid' нам не нужен из-за отсутствия информативности. Столбец 'Churn' удаляем, т.к. по нему делаем обучение моделей*"
   ]
  },
  {
   "cell_type": "code",
   "execution_count": 122,
   "metadata": {},
   "outputs": [],
   "source": [
    "df_train, df_valid = train_test_split(data, test_size=0.25, random_state=12345)\n",
    "features_train = df_train.drop(['userid','Churn','City','Gender'], axis=1)\n",
    "target_train = df_train['Churn']\n",
    "features_valid = df_valid.drop(['userid','Churn','City','Gender'], axis=1)\n",
    "target_valid = df_valid['Churn']"
   ]
  },
  {
   "cell_type": "markdown",
   "metadata": {},
   "source": [
    "*Проверяем модель Случайного леса на лучшее количество деревьев четырьмя метриками*"
   ]
  },
  {
   "cell_type": "code",
   "execution_count": 123,
   "metadata": {},
   "outputs": [
    {
     "data": {
      "text/html": [
       "<div>\n",
       "<style scoped>\n",
       "    .dataframe tbody tr th:only-of-type {\n",
       "        vertical-align: middle;\n",
       "    }\n",
       "\n",
       "    .dataframe tbody tr th {\n",
       "        vertical-align: top;\n",
       "    }\n",
       "\n",
       "    .dataframe thead th {\n",
       "        text-align: right;\n",
       "    }\n",
       "</style>\n",
       "<table border=\"1\" class=\"dataframe\">\n",
       "  <thead>\n",
       "    <tr style=\"text-align: right;\">\n",
       "      <th></th>\n",
       "      <th>accuracy</th>\n",
       "      <th>precision</th>\n",
       "      <th>recall</th>\n",
       "      <th>f1</th>\n",
       "    </tr>\n",
       "  </thead>\n",
       "  <tbody>\n",
       "    <tr>\n",
       "      <td>49</td>\n",
       "      <td>0.8552</td>\n",
       "      <td>0.776358</td>\n",
       "      <td>0.454206</td>\n",
       "      <td>0.573113</td>\n",
       "    </tr>\n",
       "    <tr>\n",
       "      <td>45</td>\n",
       "      <td>0.8540</td>\n",
       "      <td>0.774194</td>\n",
       "      <td>0.448598</td>\n",
       "      <td>0.568047</td>\n",
       "    </tr>\n",
       "    <tr>\n",
       "      <td>37</td>\n",
       "      <td>0.8552</td>\n",
       "      <td>0.785479</td>\n",
       "      <td>0.444860</td>\n",
       "      <td>0.568019</td>\n",
       "    </tr>\n",
       "    <tr>\n",
       "      <td>36</td>\n",
       "      <td>0.8556</td>\n",
       "      <td>0.793919</td>\n",
       "      <td>0.439252</td>\n",
       "      <td>0.565584</td>\n",
       "    </tr>\n",
       "    <tr>\n",
       "      <td>33</td>\n",
       "      <td>0.8524</td>\n",
       "      <td>0.764331</td>\n",
       "      <td>0.448598</td>\n",
       "      <td>0.565371</td>\n",
       "    </tr>\n",
       "  </tbody>\n",
       "</table>\n",
       "</div>"
      ],
      "text/plain": [
       "    accuracy  precision    recall        f1\n",
       "49    0.8552   0.776358  0.454206  0.573113\n",
       "45    0.8540   0.774194  0.448598  0.568047\n",
       "37    0.8552   0.785479  0.444860  0.568019\n",
       "36    0.8556   0.793919  0.439252  0.565584\n",
       "33    0.8524   0.764331  0.448598  0.565371"
      ]
     },
     "execution_count": 123,
     "metadata": {},
     "output_type": "execute_result"
    }
   ],
   "source": [
    "total_A = []\n",
    "total_P = []\n",
    "total_R = []\n",
    "total_f1 = []\n",
    "index = []\n",
    "for i in range(1,50):\n",
    "    modelRandomForest = RandomForestClassifier(random_state=12345, n_estimators=i)\n",
    "    modelRandomForest.fit(features_train,target_train)\n",
    "    predictRF = modelRandomForest.predict(features_valid)\n",
    "    accuracyRandomForest = accuracy_score(target_valid,predictRF)\n",
    "    precisionRandomForest = precision_score(target_valid,predictRF)\n",
    "    recallRandomForest = recall_score(target_valid,predictRF)\n",
    "    f1 = f1_score(target_valid,predictRF)\n",
    "    total_A.append(accuracyRandomForest)\n",
    "    total_P.append(precisionRandomForest)\n",
    "    total_R.append(recallRandomForest)\n",
    "    total_f1.append(f1)\n",
    "    index.append(i)\n",
    "    metric_RF = {'accuracy':total_A,'precision':total_P,'recall':total_R,'f1':total_f1}\n",
    "    metrics_RF = pd.DataFrame(data=metric_RF, columns=metric_RF.keys(), index=index)\n",
    "metrics_RF.sort_values(by='f1', ascending=False).head()"
   ]
  },
  {
   "cell_type": "markdown",
   "metadata": {},
   "source": [
    "##### Вывод\n",
    "Отсортировав по убыванию данные и взяв за основную метрику f1_score, выберем оптимальное количество деревьев, равное 49. На сколько я поняла, Случайный лес не страдает переобучением и, чем больше у него будет деревьев, тем лучше по результату."
   ]
  },
  {
   "cell_type": "markdown",
   "metadata": {},
   "source": [
    "*Обучим модели на тестовой и валидационной выборках, сравним показатели их метрик*"
   ]
  },
  {
   "cell_type": "code",
   "execution_count": 125,
   "metadata": {
    "scrolled": false
   },
   "outputs": [
    {
     "name": "stderr",
     "output_type": "stream",
     "text": [
      "C:\\Users\\Arina\\Anaconda3\\lib\\site-packages\\sklearn\\linear_model\\logistic.py:432: FutureWarning: Default solver will be changed to 'lbfgs' in 0.22. Specify a solver to silence this warning.\n",
      "  FutureWarning)\n"
     ]
    },
    {
     "data": {
      "text/html": [
       "<div>\n",
       "<style scoped>\n",
       "    .dataframe tbody tr th:only-of-type {\n",
       "        vertical-align: middle;\n",
       "    }\n",
       "\n",
       "    .dataframe tbody tr th {\n",
       "        vertical-align: top;\n",
       "    }\n",
       "\n",
       "    .dataframe thead th {\n",
       "        text-align: right;\n",
       "    }\n",
       "</style>\n",
       "<table border=\"1\" class=\"dataframe\">\n",
       "  <thead>\n",
       "    <tr style=\"text-align: right;\">\n",
       "      <th></th>\n",
       "      <th>Random Forest train</th>\n",
       "      <th>Random Forest valid</th>\n",
       "      <th>Logistic Regression train</th>\n",
       "      <th>Logistic Regression valid</th>\n",
       "      <th>Decision Tree Classifier train</th>\n",
       "      <th>Decision Tree Classifier valid</th>\n",
       "    </tr>\n",
       "  </thead>\n",
       "  <tbody>\n",
       "    <tr>\n",
       "      <td>accuracy</td>\n",
       "      <td>0.883067</td>\n",
       "      <td>0.854800</td>\n",
       "      <td>0.793867</td>\n",
       "      <td>0.781600</td>\n",
       "      <td>0.853600</td>\n",
       "      <td>0.841200</td>\n",
       "    </tr>\n",
       "    <tr>\n",
       "      <td>precision</td>\n",
       "      <td>0.907432</td>\n",
       "      <td>0.823308</td>\n",
       "      <td>0.399083</td>\n",
       "      <td>0.430380</td>\n",
       "      <td>0.817610</td>\n",
       "      <td>0.792373</td>\n",
       "    </tr>\n",
       "    <tr>\n",
       "      <td>recall</td>\n",
       "      <td>0.463382</td>\n",
       "      <td>0.409346</td>\n",
       "      <td>0.057923</td>\n",
       "      <td>0.063551</td>\n",
       "      <td>0.346205</td>\n",
       "      <td>0.349533</td>\n",
       "    </tr>\n",
       "    <tr>\n",
       "      <td>f1</td>\n",
       "      <td>0.613486</td>\n",
       "      <td>0.546816</td>\n",
       "      <td>0.101163</td>\n",
       "      <td>0.110749</td>\n",
       "      <td>0.486436</td>\n",
       "      <td>0.485084</td>\n",
       "    </tr>\n",
       "  </tbody>\n",
       "</table>\n",
       "</div>"
      ],
      "text/plain": [
       "           Random Forest train  Random Forest valid  \\\n",
       "accuracy              0.883067             0.854800   \n",
       "precision             0.907432             0.823308   \n",
       "recall                0.463382             0.409346   \n",
       "f1                    0.613486             0.546816   \n",
       "\n",
       "           Logistic Regression train  Logistic Regression valid  \\\n",
       "accuracy                    0.793867                   0.781600   \n",
       "precision                   0.399083                   0.430380   \n",
       "recall                      0.057923                   0.063551   \n",
       "f1                          0.101163                   0.110749   \n",
       "\n",
       "           Decision Tree Classifier train  Decision Tree Classifier valid  \n",
       "accuracy                         0.853600                        0.841200  \n",
       "precision                        0.817610                        0.792373  \n",
       "recall                           0.346205                        0.349533  \n",
       "f1                               0.486436                        0.485084  "
      ]
     },
     "execution_count": 125,
     "metadata": {},
     "output_type": "execute_result"
    }
   ],
   "source": [
    "modelRandomForest = RandomForestClassifier(random_state=12345, n_estimators=41, max_depth=8)\n",
    "modelRandomForest.fit(features_train,target_train)\n",
    "predictRF_train = modelRandomForest.predict(features_train)\n",
    "predictRF_valid = modelRandomForest.predict(features_valid)\n",
    "accuracyRF_train = accuracy_score(target_train,predictRF_train)\n",
    "accuracyRF_valid = accuracy_score(target_valid,predictRF_valid)\n",
    "precisionRF_train = precision_score(target_train,predictRF_train)\n",
    "precisionRF_valid = precision_score(target_valid,predictRF_valid)\n",
    "recallRF_train = recall_score(target_train,predictRF_train)\n",
    "recallRF_valid = recall_score(target_valid,predictRF_valid)\n",
    "f1RF_train = f1_score(target_train,predictRF_train)\n",
    "f1RF_valid = f1_score(target_valid,predictRF_valid)\n",
    "\n",
    "modelLogisticRegression = LogisticRegression(random_state=12345)\n",
    "modelLogisticRegression.fit(features_train,target_train)\n",
    "predictLR_train = modelLogisticRegression.predict(features_train)\n",
    "predictLR_valid = modelLogisticRegression.predict(features_valid)\n",
    "accuracyLR_train = accuracy_score(target_train,predictLR_train)\n",
    "accuracyLR_valid = accuracy_score(target_valid,predictLR_valid)\n",
    "precisionLR_train = precision_score(target_train,predictLR_train)\n",
    "precisionLR_valid = precision_score(target_valid,predictLR_valid)\n",
    "recallLR_train = recall_score(target_train,predictLR_train)\n",
    "recallLR_valid = recall_score(target_valid,predictLR_valid)\n",
    "f1LR_train = f1_score(target_train,predictLR_train)\n",
    "f1LR_valid = f1_score(target_valid,predictLR_valid)\n",
    "\n",
    "modelDecisionTreeClassifier = joblib.load('model.joblib')\n",
    "modelDecisionTreeClassifier.fit(features_train,target_train)\n",
    "predictDTC_train = modelDecisionTreeClassifier.predict(features_train)\n",
    "predictDTC_valid = modelDecisionTreeClassifier.predict(features_valid)\n",
    "accuracyDTC_train = accuracy_score(target_train,predictDTC_train)\n",
    "accuracyDTC_valid = accuracy_score(target_valid,predictDTC_valid)\n",
    "precisionDTC_train = precision_score(target_train,predictDTC_train)\n",
    "precisionDTC_valid = precision_score(target_valid,predictDTC_valid)\n",
    "recallDTC_train = recall_score(target_train,predictDTC_train)\n",
    "recallDTC_valid = recall_score(target_valid,predictDTC_valid)\n",
    "f1DTC_train = f1_score(target_train,predictDTC_train)\n",
    "f1DTC_valid = f1_score(target_valid,predictDTC_valid)\n",
    "\n",
    "metric = {'Random Forest train':[accuracyRF_train,precisionRF_train,recallRF_train,f1RF_train],\n",
    "          'Random Forest valid':[accuracyRF_valid,precisionRF_valid,recallRF_valid,f1RF_valid],\n",
    "          'Logistic Regression train':[accuracyLR_train,precisionLR_train,recallLR_train,f1LR_train],\n",
    "          'Logistic Regression valid':[accuracyLR_valid,precisionLR_valid,recallLR_valid,f1LR_valid],\n",
    "          'Decision Tree Classifier train':[accuracyDTC_train,precisionDTC_train,recallDTC_train,f1DTC_train],\n",
    "         'Decision Tree Classifier valid':[accuracyDTC_valid,precisionDTC_valid,recallDTC_valid,f1DTC_valid]}\n",
    "metrics = pd.DataFrame(data=metric, index=['accuracy', 'precision', 'recall', 'f1'])\n",
    "metrics"
   ]
  },
  {
   "cell_type": "markdown",
   "metadata": {},
   "source": [
    "##### Вывод\n",
    "Добавила глубину 8 уровней в модель Случайного леса, без него она вела себя неадекватно. Пробовала разное число глубины до 10. Начиная с глубины 6 Случайный лес становится лучше по предсказанию, чем Решающее дерево. По метрике f1 для дальнейшего предсказания проходит Random Forest с количеством деревьев 49."
   ]
  },
  {
   "cell_type": "markdown",
   "metadata": {},
   "source": [
    "*Попробуем предсказать отток в имеющемся датасете*"
   ]
  },
  {
   "cell_type": "code",
   "execution_count": 126,
   "metadata": {},
   "outputs": [
    {
     "data": {
      "text/html": [
       "<div>\n",
       "<style scoped>\n",
       "    .dataframe tbody tr th:only-of-type {\n",
       "        vertical-align: middle;\n",
       "    }\n",
       "\n",
       "    .dataframe tbody tr th {\n",
       "        vertical-align: top;\n",
       "    }\n",
       "\n",
       "    .dataframe thead th {\n",
       "        text-align: right;\n",
       "    }\n",
       "</style>\n",
       "<table border=\"1\" class=\"dataframe\">\n",
       "  <thead>\n",
       "    <tr style=\"text-align: right;\">\n",
       "      <th></th>\n",
       "      <th>score</th>\n",
       "      <th>Age</th>\n",
       "      <th>Objects</th>\n",
       "      <th>Balance</th>\n",
       "      <th>NumOfProducts</th>\n",
       "      <th>CreditCard</th>\n",
       "      <th>IsActiveMember</th>\n",
       "      <th>EstimatedSalary</th>\n",
       "      <th>City_code</th>\n",
       "      <th>Gender_code</th>\n",
       "      <th>claster</th>\n",
       "    </tr>\n",
       "    <tr>\n",
       "      <th>future_churn</th>\n",
       "      <th></th>\n",
       "      <th></th>\n",
       "      <th></th>\n",
       "      <th></th>\n",
       "      <th></th>\n",
       "      <th></th>\n",
       "      <th></th>\n",
       "      <th></th>\n",
       "      <th></th>\n",
       "      <th></th>\n",
       "      <th></th>\n",
       "    </tr>\n",
       "  </thead>\n",
       "  <tbody>\n",
       "    <tr>\n",
       "      <td>0</td>\n",
       "      <td>651.8488</td>\n",
       "      <td>37.2316</td>\n",
       "      <td>5.0380</td>\n",
       "      <td>72359.9954</td>\n",
       "      <td>1.5482</td>\n",
       "      <td>0.7062</td>\n",
       "      <td>0.5591</td>\n",
       "      <td>99673.9789</td>\n",
       "      <td>1.6741</td>\n",
       "      <td>0.5758</td>\n",
       "      <td>1.6010</td>\n",
       "    </tr>\n",
       "    <tr>\n",
       "      <td>1</td>\n",
       "      <td>652.1441</td>\n",
       "      <td>49.1610</td>\n",
       "      <td>4.7203</td>\n",
       "      <td>98361.3060</td>\n",
       "      <td>1.2797</td>\n",
       "      <td>0.7712</td>\n",
       "      <td>0.2542</td>\n",
       "      <td>104020.7553</td>\n",
       "      <td>2.4068</td>\n",
       "      <td>0.3559</td>\n",
       "      <td>1.3559</td>\n",
       "    </tr>\n",
       "  </tbody>\n",
       "</table>\n",
       "</div>"
      ],
      "text/plain": [
       "                 score      Age  Objects     Balance  NumOfProducts  \\\n",
       "future_churn                                                          \n",
       "0             651.8488  37.2316   5.0380  72359.9954         1.5482   \n",
       "1             652.1441  49.1610   4.7203  98361.3060         1.2797   \n",
       "\n",
       "              CreditCard  IsActiveMember  EstimatedSalary  City_code  \\\n",
       "future_churn                                                           \n",
       "0                 0.7062          0.5591       99673.9789     1.6741   \n",
       "1                 0.7712          0.2542      104020.7553     2.4068   \n",
       "\n",
       "              Gender_code  claster  \n",
       "future_churn                        \n",
       "0                  0.5758   1.6010  \n",
       "1                  0.3559   1.3559  "
      ]
     },
     "execution_count": 126,
     "metadata": {},
     "output_type": "execute_result"
    }
   ],
   "source": [
    "new_data = data[data['Churn'] == 0].drop(['userid','Churn','City','Gender'], axis=1)\n",
    "\n",
    "predictRF_new_data = modelRandomForest.predict(new_data)\n",
    "new_data['future_churn'] = predictRF_new_data\n",
    "new_data.groupby('future_churn').mean().round(4)"
   ]
  },
  {
   "cell_type": "code",
   "execution_count": 127,
   "metadata": {},
   "outputs": [
    {
     "data": {
      "text/html": [
       "<div>\n",
       "<style scoped>\n",
       "    .dataframe tbody tr th:only-of-type {\n",
       "        vertical-align: middle;\n",
       "    }\n",
       "\n",
       "    .dataframe tbody tr th {\n",
       "        vertical-align: top;\n",
       "    }\n",
       "\n",
       "    .dataframe thead th {\n",
       "        text-align: right;\n",
       "    }\n",
       "</style>\n",
       "<table border=\"1\" class=\"dataframe\">\n",
       "  <thead>\n",
       "    <tr style=\"text-align: right;\">\n",
       "      <th></th>\n",
       "      <th>future_churn</th>\n",
       "      <th>claster</th>\n",
       "    </tr>\n",
       "  </thead>\n",
       "  <tbody>\n",
       "    <tr>\n",
       "      <td>0</td>\n",
       "      <td>0</td>\n",
       "      <td>7845</td>\n",
       "    </tr>\n",
       "    <tr>\n",
       "      <td>1</td>\n",
       "      <td>1</td>\n",
       "      <td>118</td>\n",
       "    </tr>\n",
       "  </tbody>\n",
       "</table>\n",
       "</div>"
      ],
      "text/plain": [
       "   future_churn  claster\n",
       "0             0     7845\n",
       "1             1      118"
      ]
     },
     "execution_count": 127,
     "metadata": {},
     "output_type": "execute_result"
    }
   ],
   "source": [
    "new_data.groupby('future_churn')['claster'].count().reset_index()"
   ]
  },
  {
   "cell_type": "code",
   "execution_count": 128,
   "metadata": {},
   "outputs": [
    {
     "data": {
      "text/html": [
       "<div>\n",
       "<style scoped>\n",
       "    .dataframe tbody tr th:only-of-type {\n",
       "        vertical-align: middle;\n",
       "    }\n",
       "\n",
       "    .dataframe tbody tr th {\n",
       "        vertical-align: top;\n",
       "    }\n",
       "\n",
       "    .dataframe thead th {\n",
       "        text-align: right;\n",
       "    }\n",
       "</style>\n",
       "<table border=\"1\" class=\"dataframe\">\n",
       "  <thead>\n",
       "    <tr style=\"text-align: right;\">\n",
       "      <th></th>\n",
       "      <th>future_churn</th>\n",
       "      <th>City_code</th>\n",
       "      <th>claster</th>\n",
       "    </tr>\n",
       "  </thead>\n",
       "  <tbody>\n",
       "    <tr>\n",
       "      <td>0</td>\n",
       "      <td>0</td>\n",
       "      <td>1.0</td>\n",
       "      <td>4175</td>\n",
       "    </tr>\n",
       "    <tr>\n",
       "      <td>1</td>\n",
       "      <td>0</td>\n",
       "      <td>2.0</td>\n",
       "      <td>2052</td>\n",
       "    </tr>\n",
       "    <tr>\n",
       "      <td>2</td>\n",
       "      <td>0</td>\n",
       "      <td>3.0</td>\n",
       "      <td>1618</td>\n",
       "    </tr>\n",
       "    <tr>\n",
       "      <td>3</td>\n",
       "      <td>1</td>\n",
       "      <td>1.0</td>\n",
       "      <td>29</td>\n",
       "    </tr>\n",
       "    <tr>\n",
       "      <td>4</td>\n",
       "      <td>1</td>\n",
       "      <td>2.0</td>\n",
       "      <td>12</td>\n",
       "    </tr>\n",
       "    <tr>\n",
       "      <td>5</td>\n",
       "      <td>1</td>\n",
       "      <td>3.0</td>\n",
       "      <td>77</td>\n",
       "    </tr>\n",
       "  </tbody>\n",
       "</table>\n",
       "</div>"
      ],
      "text/plain": [
       "   future_churn  City_code  claster\n",
       "0             0        1.0     4175\n",
       "1             0        2.0     2052\n",
       "2             0        3.0     1618\n",
       "3             1        1.0       29\n",
       "4             1        2.0       12\n",
       "5             1        3.0       77"
      ]
     },
     "execution_count": 128,
     "metadata": {},
     "output_type": "execute_result"
    }
   ],
   "source": [
    "new_data.groupby(['future_churn','City_code'])['claster'].count().reset_index()"
   ]
  },
  {
   "cell_type": "code",
   "execution_count": 129,
   "metadata": {},
   "outputs": [
    {
     "data": {
      "text/html": [
       "<div>\n",
       "<style scoped>\n",
       "    .dataframe tbody tr th:only-of-type {\n",
       "        vertical-align: middle;\n",
       "    }\n",
       "\n",
       "    .dataframe tbody tr th {\n",
       "        vertical-align: top;\n",
       "    }\n",
       "\n",
       "    .dataframe thead th {\n",
       "        text-align: right;\n",
       "    }\n",
       "</style>\n",
       "<table border=\"1\" class=\"dataframe\">\n",
       "  <thead>\n",
       "    <tr style=\"text-align: right;\">\n",
       "      <th></th>\n",
       "      <th>future_churn</th>\n",
       "      <th>Gender_code</th>\n",
       "      <th>claster</th>\n",
       "    </tr>\n",
       "  </thead>\n",
       "  <tbody>\n",
       "    <tr>\n",
       "      <td>0</td>\n",
       "      <td>0</td>\n",
       "      <td>0.0</td>\n",
       "      <td>3328</td>\n",
       "    </tr>\n",
       "    <tr>\n",
       "      <td>1</td>\n",
       "      <td>0</td>\n",
       "      <td>1.0</td>\n",
       "      <td>4517</td>\n",
       "    </tr>\n",
       "    <tr>\n",
       "      <td>2</td>\n",
       "      <td>1</td>\n",
       "      <td>0.0</td>\n",
       "      <td>76</td>\n",
       "    </tr>\n",
       "    <tr>\n",
       "      <td>3</td>\n",
       "      <td>1</td>\n",
       "      <td>1.0</td>\n",
       "      <td>42</td>\n",
       "    </tr>\n",
       "  </tbody>\n",
       "</table>\n",
       "</div>"
      ],
      "text/plain": [
       "   future_churn  Gender_code  claster\n",
       "0             0          0.0     3328\n",
       "1             0          1.0     4517\n",
       "2             1          0.0       76\n",
       "3             1          1.0       42"
      ]
     },
     "execution_count": 129,
     "metadata": {},
     "output_type": "execute_result"
    }
   ],
   "source": [
    "new_data.groupby(['future_churn','Gender_code'])['claster'].count().reset_index()"
   ]
  },
  {
   "cell_type": "markdown",
   "metadata": {},
   "source": [
    "##### Вывод \n",
    "В среднем у предсказанной группы оттока в 118 человек кредитный рейтинг получился меньше стабильных клиентов. Но по возрасту они остались в самой возрастной группе, имеют больший баланс на карте, чем постоянные клиенты, менее активны, проживают в большинстве своем в Ростове Великом. Кстати, женщин получилось больше, чем мужчин."
   ]
  },
  {
   "cell_type": "markdown",
   "metadata": {},
   "source": [
    "*Проверим количество клиентов из предсказанной группы оттока в каждом кластере*"
   ]
  },
  {
   "cell_type": "code",
   "execution_count": 130,
   "metadata": {},
   "outputs": [
    {
     "data": {
      "text/html": [
       "<div>\n",
       "<style scoped>\n",
       "    .dataframe tbody tr th:only-of-type {\n",
       "        vertical-align: middle;\n",
       "    }\n",
       "\n",
       "    .dataframe tbody tr th {\n",
       "        vertical-align: top;\n",
       "    }\n",
       "\n",
       "    .dataframe thead th {\n",
       "        text-align: right;\n",
       "    }\n",
       "</style>\n",
       "<table border=\"1\" class=\"dataframe\">\n",
       "  <thead>\n",
       "    <tr style=\"text-align: right;\">\n",
       "      <th></th>\n",
       "      <th>future_churn</th>\n",
       "      <th>claster</th>\n",
       "      <th>score</th>\n",
       "    </tr>\n",
       "  </thead>\n",
       "  <tbody>\n",
       "    <tr>\n",
       "      <td>0</td>\n",
       "      <td>0</td>\n",
       "      <td>0</td>\n",
       "      <td>1847</td>\n",
       "    </tr>\n",
       "    <tr>\n",
       "      <td>1</td>\n",
       "      <td>0</td>\n",
       "      <td>1</td>\n",
       "      <td>1774</td>\n",
       "    </tr>\n",
       "    <tr>\n",
       "      <td>2</td>\n",
       "      <td>0</td>\n",
       "      <td>2</td>\n",
       "      <td>1886</td>\n",
       "    </tr>\n",
       "    <tr>\n",
       "      <td>3</td>\n",
       "      <td>0</td>\n",
       "      <td>3</td>\n",
       "      <td>2338</td>\n",
       "    </tr>\n",
       "    <tr>\n",
       "      <td>4</td>\n",
       "      <td>1</td>\n",
       "      <td>0</td>\n",
       "      <td>9</td>\n",
       "    </tr>\n",
       "    <tr>\n",
       "      <td>5</td>\n",
       "      <td>1</td>\n",
       "      <td>1</td>\n",
       "      <td>77</td>\n",
       "    </tr>\n",
       "    <tr>\n",
       "      <td>6</td>\n",
       "      <td>1</td>\n",
       "      <td>2</td>\n",
       "      <td>13</td>\n",
       "    </tr>\n",
       "    <tr>\n",
       "      <td>7</td>\n",
       "      <td>1</td>\n",
       "      <td>3</td>\n",
       "      <td>19</td>\n",
       "    </tr>\n",
       "  </tbody>\n",
       "</table>\n",
       "</div>"
      ],
      "text/plain": [
       "   future_churn  claster  score\n",
       "0             0        0   1847\n",
       "1             0        1   1774\n",
       "2             0        2   1886\n",
       "3             0        3   2338\n",
       "4             1        0      9\n",
       "5             1        1     77\n",
       "6             1        2     13\n",
       "7             1        3     19"
      ]
     },
     "execution_count": 130,
     "metadata": {},
     "output_type": "execute_result"
    }
   ],
   "source": [
    "new_data.groupby(['future_churn','claster'])['score'].count().reset_index()"
   ]
  },
  {
   "cell_type": "markdown",
   "metadata": {},
   "source": [
    "##### Вывод \n",
    "И по кластеризации Случайный лес также выделил проблемной именно первую группу."
   ]
  },
  {
   "cell_type": "markdown",
   "metadata": {},
   "source": [
    "### 6. Выводы <a id=\"Выводы\"></a>"
   ]
  },
  {
   "cell_type": "markdown",
   "metadata": {},
   "source": [
    "Проведя исследовательский анализ данных мы проанализировали пропуски в балансе карт у клиентов банка. По среднему значению увидели, что разница между оттоком и постоянными клиентами значительна в возрасте и активности клиента. Построили графики по количеству клиентов из групп оттока и постоянных клиентов и их доле в признаках. Сделали вывод, что очевидная разница в группах состоит в возрасте, активности клиента, месте его проживания и его полу\n",
    "\n",
    "По статистическому анализу вычислили, что разница в средних ощутима для постоянных клиентов и из группы оттока по столбцам \"Кредитный рейтинг\", \"Возраст\", \"Баланс карты\", \"Количество продуктов\", \"Активный клиент\", \"Город\", \"Пол\". Рассмотрев их по плотности распределения клиентов, сделали выводы:\n",
    "* кредитный рейтинг у стабильных клиентов в среднем выше, чем у группы оттока\n",
    "* большинство клиентов из группы оттока проживает в Ростове Великом и Ярославле\n",
    "* в группе оттока женщин больше, чем мужчин\n",
    "* с 45 лет количество людей в группе стабильных клиентов резко начинает сокращаться, клиенты начинают уходить\n",
    "* максимальный баланс карты у группы стабильных клиентов незначительно проигрывает максимальному балансу группы оттока, но на продолжении всего периода владения продукта баланс идет нога в ногу\n",
    "* интересно, что стабильные клиенты предпочитают иметь не более двух продуктов банка, в то время как клиенты из группы оттока расширяют свою линейку до четырех\n",
    "* группа оттока пассивнее постоянных клиентов\n",
    "\n",
    "Проведя кластеризацию, получили 4 кластера. По ним провели ранжирование всех клиентов. Самой проблемной получилась группа 1. От остальных групп ее отличает:\n",
    "* самый высокий кредитный рейтинг\n",
    "* самый высокий возрастной показатель\n",
    "* второе место по балансу карты. Стоит учесть при условии, что у кластера 0 баланс в 2 раза меньше, а у кластера 3 - почти незначительный. Учитывая, что мы ранее заменили все пропуски на 0, скорее всего именно группа 3 не хранит деньги на карте и либо их сразу снимает, либо переводит на другую карту\n",
    "* эта группа наименее активна\n",
    "* по большей части клиенты проживают в Ростове Великом.\n",
    "\n",
    "**В итоге составим портрет уходящего клиента:**\n",
    "\n",
    "Самым рисковым (уходящим) клиентом скорее всего окажется женщина старше 50 лет, проживающая в Ростове Великом, со стандартным кредитным рейтингом. По большому счету она не будет активно пользоваться всеми своими разнообразными продуктами банка, но будет иметь значительную сумму на балансе.\n",
    "\n",
    "По кластеризации необходимо уделить тщательное внимание группе 1. Также по предсказанию группа 1 находится на первом месте по предполагаемому оттоку. С клиентами можно попробовать провести дополнительную работу для закрепления в этом банке. Навязывание внутренних продуктов, судя по анализу, не способствует решению проблемы. А вот на отсутствие денег на балансе карт у многих стабильных клиентов стоит обратить внимание. Возможно деньги переводятся в другой банк. Вряд ли в России люди сидят на наличке. Это больше свойственно Европейскому потребителю. Есть предложение по внедрению популярной сейчас среди банков акции в виде cashback. Можно добавить процент на ежемесячный остаток по счету, чтобы клиент оставлял средства на карте данного банка на длительно время или хранение."
   ]
  },
  {
   "cell_type": "markdown",
   "metadata": {},
   "source": [
    "### 7. Список источников: <a id=\"Источники\"></a>\n",
    "1. https://progresscard.ru/pages-credit-score\n",
    "Сайт помог разобраться с кредитным рейтингом и его стандартными значениями\n",
    "2. https://seaborn.pydata.org/examples/distplot_options.html\n",
    "Хороший пример построения графика 2х2. Впоследствии не пригодился, но попытки были\n",
    "3. https://stackoverflow.com/\n",
    "Очень много хороших идей по решению проблем при написании кода\n",
    "4. https://matplotlib.org/3.1.0/gallery/subplots_axes_and_figures/subplots_demo.html\n",
    "Сайт помог решить задачу с построением subplot\n",
    "5. https://pandas.pydata.org/pandas-docs/stable/user_guide/indexing.html\n",
    "Ошибки, которые вылезали в ходе решения проекта, были вполне подробно описаны на этой странице и подталкивали к нахождению другого пути решения задачи."
   ]
  }
 ],
 "metadata": {
  "kernelspec": {
   "display_name": "Python 3",
   "language": "python",
   "name": "python3"
  },
  "language_info": {
   "codemirror_mode": {
    "name": "ipython",
    "version": 3
   },
   "file_extension": ".py",
   "mimetype": "text/x-python",
   "name": "python",
   "nbconvert_exporter": "python",
   "pygments_lexer": "ipython3",
   "version": "3.7.4"
  }
 },
 "nbformat": 4,
 "nbformat_minor": 2
}
