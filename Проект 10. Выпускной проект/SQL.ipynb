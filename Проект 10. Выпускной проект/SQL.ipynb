{
 "cells": [
  {
   "cell_type": "markdown",
   "metadata": {},
   "source": [
    "Оглавление:\n",
    "1. [Подготовка датасетов](#Подготовка)\n",
    "2. [Затраты на каждый рекламный источник](#Затраты)\n",
    "3. [Суммарная выручка, максимальная и минимальнаяю выручку от заказов, устройство desktop, самый дорогой рекламный источник](#Выручка)\n",
    "4. [Вычисление метрики](#Метрика)"
   ]
  },
  {
   "cell_type": "markdown",
   "metadata": {},
   "source": [
    "#### 1. Подготовка датасетов <a id=\"Подготовка\"></a>"
   ]
  },
  {
   "cell_type": "code",
   "execution_count": 13,
   "metadata": {
    "collapsed": true
   },
   "outputs": [],
   "source": [
    "import pandas as pd\n",
    "from sqlalchemy import create_engine\n",
    "db_config = {'user': 'analyst',         # имя пользователя\n",
    "             'pwd': 'I80qcMa', # пароль\n",
    "             'host': 'logdb.cdxwh80nuzgz.us-west-2.rds.amazonaws.com',\n",
    "             'port': 5432,              # порт подключения\n",
    "             'db': 'shopinfo'}  \n",
    "connection_string = 'postgresql://{}:{}@{}:{}/{}'.format(db_config['user'],\n",
    "                                                        db_config['pwd'],\n",
    "                                                        db_config['host'],\n",
    "                                                        db_config['port'],\n",
    "                                                        db_config['db'])\n",
    "\n",
    "engine = create_engine(connection_string)\n",
    "query_v = '''SELECT * FROM visits'''\n",
    "query_s = '''SELECT * FROM orders'''\n",
    "query_a = '''SELECT * FROM advertisment_costs'''\n",
    "visits = pd.io.sql.read_sql(query_v, con=engine)\n",
    "orders = pd.io.sql.read_sql(query_s, con=engine)\n",
    "advertisment_costs = pd.io.sql.read_sql(query_a, con=engine)  "
   ]
  },
  {
   "cell_type": "markdown",
   "metadata": {},
   "source": [
    "#### 2. Посчитайте затраты на каждый рекламный источник <a id=\"Затраты\"></a>"
   ]
  },
  {
   "cell_type": "markdown",
   "metadata": {},
   "source": [
    "##### SQL"
   ]
  },
  {
   "cell_type": "code",
   "execution_count": 2,
   "metadata": {},
   "outputs": [
    {
     "data": {
      "text/html": [
       "<div>\n",
       "<style scoped>\n",
       "    .dataframe tbody tr th:only-of-type {\n",
       "        vertical-align: middle;\n",
       "    }\n",
       "\n",
       "    .dataframe tbody tr th {\n",
       "        vertical-align: top;\n",
       "    }\n",
       "\n",
       "    .dataframe thead th {\n",
       "        text-align: right;\n",
       "    }\n",
       "</style>\n",
       "<table border=\"1\" class=\"dataframe\">\n",
       "  <thead>\n",
       "    <tr style=\"text-align: right;\">\n",
       "      <th></th>\n",
       "      <th>source_id</th>\n",
       "      <th>sum</th>\n",
       "    </tr>\n",
       "  </thead>\n",
       "  <tbody>\n",
       "    <tr>\n",
       "      <td>0</td>\n",
       "      <td>1</td>\n",
       "      <td>$20,833.27</td>\n",
       "    </tr>\n",
       "    <tr>\n",
       "      <td>1</td>\n",
       "      <td>2</td>\n",
       "      <td>$42,806.04</td>\n",
       "    </tr>\n",
       "    <tr>\n",
       "      <td>2</td>\n",
       "      <td>3</td>\n",
       "      <td>$141,321.63</td>\n",
       "    </tr>\n",
       "    <tr>\n",
       "      <td>3</td>\n",
       "      <td>4</td>\n",
       "      <td>$61,073.60</td>\n",
       "    </tr>\n",
       "    <tr>\n",
       "      <td>4</td>\n",
       "      <td>5</td>\n",
       "      <td>$51,757.10</td>\n",
       "    </tr>\n",
       "    <tr>\n",
       "      <td>5</td>\n",
       "      <td>9</td>\n",
       "      <td>$5,517.49</td>\n",
       "    </tr>\n",
       "    <tr>\n",
       "      <td>6</td>\n",
       "      <td>10</td>\n",
       "      <td>$5,822.49</td>\n",
       "    </tr>\n",
       "  </tbody>\n",
       "</table>\n",
       "</div>"
      ],
      "text/plain": [
       "   source_id          sum\n",
       "0          1   $20,833.27\n",
       "1          2   $42,806.04\n",
       "2          3  $141,321.63\n",
       "3          4   $61,073.60\n",
       "4          5   $51,757.10\n",
       "5          9    $5,517.49\n",
       "6         10    $5,822.49"
      ]
     },
     "execution_count": 2,
     "metadata": {},
     "output_type": "execute_result"
    }
   ],
   "source": [
    "sum_ad = '''\n",
    "SELECT\n",
    "    source_id,\n",
    "    SUM(costs)\n",
    "FROM \n",
    "    advertisment_costs \n",
    "GROUP BY\n",
    "    source_id\n",
    "ORDER BY\n",
    "    source_id ASC\n",
    "'''\n",
    "sum_ad = pd.io.sql.read_sql(sum_ad, con=engine)\n",
    "sum_ad"
   ]
  },
  {
   "cell_type": "markdown",
   "metadata": {},
   "source": [
    "#### Python"
   ]
  },
  {
   "cell_type": "code",
   "execution_count": 26,
   "metadata": {},
   "outputs": [
    {
     "data": {
      "text/html": [
       "<div>\n",
       "<style scoped>\n",
       "    .dataframe tbody tr th:only-of-type {\n",
       "        vertical-align: middle;\n",
       "    }\n",
       "\n",
       "    .dataframe tbody tr th {\n",
       "        vertical-align: top;\n",
       "    }\n",
       "\n",
       "    .dataframe thead th {\n",
       "        text-align: right;\n",
       "    }\n",
       "</style>\n",
       "<table border=\"1\" class=\"dataframe\">\n",
       "  <thead>\n",
       "    <tr style=\"text-align: right;\">\n",
       "      <th></th>\n",
       "      <th>source_id</th>\n",
       "      <th>costs</th>\n",
       "    </tr>\n",
       "  </thead>\n",
       "  <tbody>\n",
       "    <tr>\n",
       "      <td>0</td>\n",
       "      <td>1</td>\n",
       "      <td>20833.27</td>\n",
       "    </tr>\n",
       "    <tr>\n",
       "      <td>1</td>\n",
       "      <td>2</td>\n",
       "      <td>42806.04</td>\n",
       "    </tr>\n",
       "    <tr>\n",
       "      <td>2</td>\n",
       "      <td>3</td>\n",
       "      <td>141321.63</td>\n",
       "    </tr>\n",
       "    <tr>\n",
       "      <td>3</td>\n",
       "      <td>4</td>\n",
       "      <td>61073.60</td>\n",
       "    </tr>\n",
       "    <tr>\n",
       "      <td>4</td>\n",
       "      <td>5</td>\n",
       "      <td>51757.10</td>\n",
       "    </tr>\n",
       "    <tr>\n",
       "      <td>5</td>\n",
       "      <td>9</td>\n",
       "      <td>5517.49</td>\n",
       "    </tr>\n",
       "    <tr>\n",
       "      <td>6</td>\n",
       "      <td>10</td>\n",
       "      <td>5822.49</td>\n",
       "    </tr>\n",
       "  </tbody>\n",
       "</table>\n",
       "</div>"
      ],
      "text/plain": [
       "   source_id      costs\n",
       "0          1   20833.27\n",
       "1          2   42806.04\n",
       "2          3  141321.63\n",
       "3          4   61073.60\n",
       "4          5   51757.10\n",
       "5          9    5517.49\n",
       "6         10    5822.49"
      ]
     },
     "execution_count": 26,
     "metadata": {},
     "output_type": "execute_result"
    }
   ],
   "source": [
    "advertisment_costs['costs'] = advertisment_costs['costs'].map(lambda x: x.replace('$','')\n",
    "                                                                  .replace(',','')).astype('float')\n",
    "advertisment_costs.groupby('source_id', as_index=False)['costs'].sum()"
   ]
  },
  {
   "cell_type": "markdown",
   "metadata": {},
   "source": [
    "##### Вывод\n",
    "Выстроены точно по возрастанию затрат. Временной промежуток с 01.06.2017 по 31.05.2018. Количество уникальных дат по затратам на рекламный источник у всех одинаково (363), кроме источника 5. У него на 1 дату больше. А именно на 31.03.2018."
   ]
  },
  {
   "cell_type": "markdown",
   "metadata": {},
   "source": [
    "------------\n",
    "\n",
    "# Комментарии 1\n",
    "\n",
    "Отлично :)\n",
    "\n",
    "------------"
   ]
  },
  {
   "cell_type": "markdown",
   "metadata": {},
   "source": [
    "####  <a id=\"Выручка\"></a> 3. Посчитайте суммарную выручку, максимальную и минимальную выручку от заказов, сделанных с настольных ПК (тип устройства desktop) пользователями, которые хотя бы раз перешли из рекламного источника, на который было потрачено больше всего денег. Сделайте выводы"
   ]
  },
  {
   "cell_type": "markdown",
   "metadata": {},
   "source": [
    "##### SQL"
   ]
  },
  {
   "cell_type": "code",
   "execution_count": 17,
   "metadata": {},
   "outputs": [
    {
     "data": {
      "text/html": [
       "<div>\n",
       "<style scoped>\n",
       "    .dataframe tbody tr th:only-of-type {\n",
       "        vertical-align: middle;\n",
       "    }\n",
       "\n",
       "    .dataframe tbody tr th {\n",
       "        vertical-align: top;\n",
       "    }\n",
       "\n",
       "    .dataframe thead th {\n",
       "        text-align: right;\n",
       "    }\n",
       "</style>\n",
       "<table border=\"1\" class=\"dataframe\">\n",
       "  <thead>\n",
       "    <tr style=\"text-align: right;\">\n",
       "      <th></th>\n",
       "      <th>max</th>\n",
       "      <th>min</th>\n",
       "      <th>sum</th>\n",
       "    </tr>\n",
       "  </thead>\n",
       "  <tbody>\n",
       "    <tr>\n",
       "      <td>0</td>\n",
       "      <td>$229.78</td>\n",
       "      <td>$0.00</td>\n",
       "      <td>$18,879.56</td>\n",
       "    </tr>\n",
       "  </tbody>\n",
       "</table>\n",
       "</div>"
      ],
      "text/plain": [
       "       max    min         sum\n",
       "0  $229.78  $0.00  $18,879.56"
      ]
     },
     "execution_count": 17,
     "metadata": {},
     "output_type": "execute_result"
    }
   ],
   "source": [
    "sum_rev = '''\n",
    "SELECT \n",
    "    MAX(revenue),\n",
    "    MIN(revenue),\n",
    "    SUM(revenue)\n",
    "FROM \n",
    "    (SELECT uid, device, sourceid FROM visits WHERE device = 'desktop' AND sourceid=3) AS ac\n",
    "INNER JOIN\n",
    "    orders ON orders.uid = ac.uid\n",
    "'''\n",
    "sum_rev = pd.io.sql.read_sql(sum_rev, con=engine)\n",
    "sum_rev"
   ]
  },
  {
   "cell_type": "code",
   "execution_count": 18,
   "metadata": {},
   "outputs": [
    {
     "data": {
      "text/html": [
       "<div>\n",
       "<style scoped>\n",
       "    .dataframe tbody tr th:only-of-type {\n",
       "        vertical-align: middle;\n",
       "    }\n",
       "\n",
       "    .dataframe tbody tr th {\n",
       "        vertical-align: top;\n",
       "    }\n",
       "\n",
       "    .dataframe thead th {\n",
       "        text-align: right;\n",
       "    }\n",
       "</style>\n",
       "<table border=\"1\" class=\"dataframe\">\n",
       "  <thead>\n",
       "    <tr style=\"text-align: right;\">\n",
       "      <th></th>\n",
       "      <th>device</th>\n",
       "      <th>count</th>\n",
       "    </tr>\n",
       "  </thead>\n",
       "  <tbody>\n",
       "    <tr>\n",
       "      <td>0</td>\n",
       "      <td>desktop</td>\n",
       "      <td>5159</td>\n",
       "    </tr>\n",
       "    <tr>\n",
       "      <td>1</td>\n",
       "      <td>touch</td>\n",
       "      <td>1480</td>\n",
       "    </tr>\n",
       "  </tbody>\n",
       "</table>\n",
       "</div>"
      ],
      "text/plain": [
       "    device  count\n",
       "0  desktop   5159\n",
       "1    touch   1480"
      ]
     },
     "execution_count": 18,
     "metadata": {},
     "output_type": "execute_result"
    }
   ],
   "source": [
    "count_devices = '''\n",
    "SELECT \n",
    "    device,\n",
    "    COUNT(device) \n",
    "FROM \n",
    "    visits \n",
    "WHERE \n",
    "    sourceid = 3 \n",
    "GROUP BY \n",
    "    device\n",
    "'''\n",
    "count_devices = pd.io.sql.read_sql(count_devices,con=engine)\n",
    "count_devices"
   ]
  },
  {
   "cell_type": "markdown",
   "metadata": {},
   "source": [
    "#### Python"
   ]
  },
  {
   "cell_type": "code",
   "execution_count": 14,
   "metadata": {},
   "outputs": [
    {
     "name": "stdout",
     "output_type": "stream",
     "text": [
      "Максимальная выручка с устройста desktop 229.78\n",
      "Минимальная выручка с устройста desktop 0.0\n",
      "Суммарная выручка с устройста desktop 13330.09\n"
     ]
    },
    {
     "name": "stderr",
     "output_type": "stream",
     "text": [
      "C:\\Users\\Arina\\Anaconda3\\lib\\site-packages\\ipykernel_launcher.py:5: SettingWithCopyWarning: \n",
      "A value is trying to be set on a copy of a slice from a DataFrame.\n",
      "Try using .loc[row_indexer,col_indexer] = value instead\n",
      "\n",
      "See the caveats in the documentation: http://pandas.pydata.org/pandas-docs/stable/user_guide/indexing.html#returning-a-view-versus-a-copy\n",
      "  \"\"\"\n"
     ]
    }
   ],
   "source": [
    "revenue_3 = visits[(visits['sourceid'] == 3) & (visits['device'] == 'desktop')].reset_index()\n",
    "visits_uid = revenue_3['uid'].unique()\n",
    "revenue_3_desktop = orders.query('uid in @visits_uid')\n",
    "revenue_3_desktop['revenue'] = revenue_3_desktop['revenue'].map(lambda x: x.replace('$','')\n",
    "                                                                  .replace(',','.')).astype('float')\n",
    "\n",
    "print('Максимальная выручка с устройста desktop', revenue_3_desktop['revenue'].max())\n",
    "print('Минимальная выручка с устройста desktop', revenue_3_desktop['revenue'].min())\n",
    "print('Суммарная выручка с устройста desktop', revenue_3_desktop['revenue'].sum())"
   ]
  },
  {
   "cell_type": "code",
   "execution_count": 15,
   "metadata": {},
   "outputs": [
    {
     "data": {
      "text/plain": [
       "device\n",
       "desktop    5159\n",
       "touch      1480\n",
       "Name: uid, dtype: int64"
      ]
     },
     "execution_count": 15,
     "metadata": {},
     "output_type": "execute_result"
    }
   ],
   "source": [
    "ty = visits[visits['sourceid'] == 3]\n",
    "ty.groupby('device')['uid'].count()"
   ]
  },
  {
   "cell_type": "markdown",
   "metadata": {},
   "source": [
    "#### Вывод\n",
    "Получается, что доходы только с ПК минимальны и не покрывают расходы на самый дорогой рекламный источник. Учитывая, что переходы из данного рекламного источника в 88% случаев происходят из устройств desktop (5159) и touch (1480), результаты неутешительные. Доходы с touch не покрывают эту пропасть. Необходимо пересмотреть данный вид расхода средств."
   ]
  },
  {
   "cell_type": "markdown",
   "metadata": {},
   "source": [
    "#### <a id=\"Метрика\"></a> Ведём новую метрику эффективности рекламы — дневные затраты на рекламу на пользователя по источнику. Она рассчитывается для каждого отдельного дня и равна объёму денежных средств, которые были израсходованы на то, чтобы пользователь перешёл по рекламе на сайт из данного рекламного источника. Иными словами, метрика для каждого дня равна отношению рекламных затрат по данному источнику к количеству посетителей, перешедших на сайт с данного источника.\n",
    "\n",
    "#### 4. Рассчитайте для каждого дня введённую метрику. Считайте, что целевое действие было произведено тогда, когда сессия началась. Например, если посетитель провёл на сайте несколько минут с 23:50 14 апреля по 0:20 15 апреля, то его нужно включать в расчёт за 14 апреля "
   ]
  },
  {
   "cell_type": "markdown",
   "metadata": {},
   "source": [
    "##### SQL"
   ]
  },
  {
   "cell_type": "code",
   "execution_count": 53,
   "metadata": {},
   "outputs": [
    {
     "data": {
      "text/html": [
       "<div>\n",
       "<style scoped>\n",
       "    .dataframe tbody tr th:only-of-type {\n",
       "        vertical-align: middle;\n",
       "    }\n",
       "\n",
       "    .dataframe tbody tr th {\n",
       "        vertical-align: top;\n",
       "    }\n",
       "\n",
       "    .dataframe thead th {\n",
       "        text-align: right;\n",
       "    }\n",
       "</style>\n",
       "<table border=\"1\" class=\"dataframe\">\n",
       "  <thead>\n",
       "    <tr style=\"text-align: right;\">\n",
       "      <th></th>\n",
       "      <th>source_id</th>\n",
       "      <th>dt_day</th>\n",
       "      <th>sum</th>\n",
       "    </tr>\n",
       "  </thead>\n",
       "  <tbody>\n",
       "    <tr>\n",
       "      <td>0</td>\n",
       "      <td>1</td>\n",
       "      <td>2017-06-01</td>\n",
       "      <td>$10.74</td>\n",
       "    </tr>\n",
       "    <tr>\n",
       "      <td>1</td>\n",
       "      <td>1</td>\n",
       "      <td>2017-06-02</td>\n",
       "      <td>$20.75</td>\n",
       "    </tr>\n",
       "    <tr>\n",
       "      <td>2</td>\n",
       "      <td>1</td>\n",
       "      <td>2017-06-03</td>\n",
       "      <td>$9.13</td>\n",
       "    </tr>\n",
       "    <tr>\n",
       "      <td>3</td>\n",
       "      <td>1</td>\n",
       "      <td>2017-06-04</td>\n",
       "      <td>$9.16</td>\n",
       "    </tr>\n",
       "    <tr>\n",
       "      <td>4</td>\n",
       "      <td>1</td>\n",
       "      <td>2017-06-05</td>\n",
       "      <td>$7.13</td>\n",
       "    </tr>\n",
       "    <tr>\n",
       "      <td>...</td>\n",
       "      <td>...</td>\n",
       "      <td>...</td>\n",
       "      <td>...</td>\n",
       "    </tr>\n",
       "    <tr>\n",
       "      <td>2363</td>\n",
       "      <td>10</td>\n",
       "      <td>2018-05-24</td>\n",
       "      <td>$5.39</td>\n",
       "    </tr>\n",
       "    <tr>\n",
       "      <td>2364</td>\n",
       "      <td>10</td>\n",
       "      <td>2018-05-25</td>\n",
       "      <td>$7.40</td>\n",
       "    </tr>\n",
       "    <tr>\n",
       "      <td>2365</td>\n",
       "      <td>10</td>\n",
       "      <td>2018-05-28</td>\n",
       "      <td>$7.08</td>\n",
       "    </tr>\n",
       "    <tr>\n",
       "      <td>2366</td>\n",
       "      <td>10</td>\n",
       "      <td>2018-05-30</td>\n",
       "      <td>$8.28</td>\n",
       "    </tr>\n",
       "    <tr>\n",
       "      <td>2367</td>\n",
       "      <td>10</td>\n",
       "      <td>2018-05-31</td>\n",
       "      <td>$1.60</td>\n",
       "    </tr>\n",
       "  </tbody>\n",
       "</table>\n",
       "<p>2368 rows × 3 columns</p>\n",
       "</div>"
      ],
      "text/plain": [
       "      source_id     dt_day     sum\n",
       "0             1 2017-06-01  $10.74\n",
       "1             1 2017-06-02  $20.75\n",
       "2             1 2017-06-03   $9.13\n",
       "3             1 2017-06-04   $9.16\n",
       "4             1 2017-06-05   $7.13\n",
       "...         ...        ...     ...\n",
       "2363         10 2018-05-24   $5.39\n",
       "2364         10 2018-05-25   $7.40\n",
       "2365         10 2018-05-28   $7.08\n",
       "2366         10 2018-05-30   $8.28\n",
       "2367         10 2018-05-31   $1.60\n",
       "\n",
       "[2368 rows x 3 columns]"
      ]
     },
     "execution_count": 53,
     "metadata": {},
     "output_type": "execute_result"
    }
   ],
   "source": [
    "metric = '''\n",
    "WITH spend_ad AS (SELECT\n",
    "                    source_id,\n",
    "                    DATE_TRUNC('day',dt::TIMESTAMP) AS dt_day,\n",
    "                    SUM(costs)                    \n",
    "                FROM\n",
    "                    advertisment_costs\n",
    "                GROUP BY\n",
    "                    source_id,\n",
    "                    dt_day\n",
    "                    ),\n",
    "    \n",
    "     visits_count AS (SELECT\n",
    "                        sourceid,\n",
    "                        DATE_TRUNC('day',startts::TIMESTAMP) AS dt_day,\n",
    "                        COUNT(DISTINCT uid)                        \n",
    "                FROM\n",
    "                    visits\n",
    "                GROUP BY\n",
    "                    sourceid,\n",
    "                    dt_day                    \n",
    "                ORDER BY\n",
    "                    dt_day ASC)\n",
    "\n",
    "SELECT\n",
    "    spend_ad.source_id,\n",
    "    spend_ad.dt_day,\n",
    "    SUM(sum / count)\n",
    "FROM \n",
    "    spend_ad\n",
    "INNER JOIN\n",
    "    visits_count on spend_ad.dt_day = visits_count.dt_day AND spend_ad.source_id = visits_count.sourceid\n",
    "GROUP BY\n",
    "    spend_ad.source_id,\n",
    "    spend_ad.dt_day\n",
    "'''\n",
    "metric = pd.io.sql.read_sql(metric, con=engine)\n",
    "metric"
   ]
  },
  {
   "cell_type": "markdown",
   "metadata": {},
   "source": [
    "#### Python"
   ]
  },
  {
   "cell_type": "code",
   "execution_count": 52,
   "metadata": {},
   "outputs": [
    {
     "data": {
      "text/html": [
       "<div>\n",
       "<style scoped>\n",
       "    .dataframe tbody tr th:only-of-type {\n",
       "        vertical-align: middle;\n",
       "    }\n",
       "\n",
       "    .dataframe tbody tr th {\n",
       "        vertical-align: top;\n",
       "    }\n",
       "\n",
       "    .dataframe thead th {\n",
       "        text-align: right;\n",
       "    }\n",
       "</style>\n",
       "<table border=\"1\" class=\"dataframe\">\n",
       "  <thead>\n",
       "    <tr style=\"text-align: right;\">\n",
       "      <th></th>\n",
       "      <th>source_id</th>\n",
       "      <th>dt</th>\n",
       "      <th>metric</th>\n",
       "    </tr>\n",
       "  </thead>\n",
       "  <tbody>\n",
       "    <tr>\n",
       "      <td>0</td>\n",
       "      <td>1</td>\n",
       "      <td>2017-06-01</td>\n",
       "      <td>10.743</td>\n",
       "    </tr>\n",
       "    <tr>\n",
       "      <td>1</td>\n",
       "      <td>1</td>\n",
       "      <td>2017-06-02</td>\n",
       "      <td>20.750</td>\n",
       "    </tr>\n",
       "    <tr>\n",
       "      <td>2</td>\n",
       "      <td>1</td>\n",
       "      <td>2017-06-03</td>\n",
       "      <td>9.132</td>\n",
       "    </tr>\n",
       "    <tr>\n",
       "      <td>3</td>\n",
       "      <td>1</td>\n",
       "      <td>2017-06-04</td>\n",
       "      <td>9.167</td>\n",
       "    </tr>\n",
       "    <tr>\n",
       "      <td>4</td>\n",
       "      <td>1</td>\n",
       "      <td>2017-06-05</td>\n",
       "      <td>7.135</td>\n",
       "    </tr>\n",
       "    <tr>\n",
       "      <td>...</td>\n",
       "      <td>...</td>\n",
       "      <td>...</td>\n",
       "      <td>...</td>\n",
       "    </tr>\n",
       "    <tr>\n",
       "      <td>2537</td>\n",
       "      <td>10</td>\n",
       "      <td>2018-05-27</td>\n",
       "      <td>0.000</td>\n",
       "    </tr>\n",
       "    <tr>\n",
       "      <td>2538</td>\n",
       "      <td>10</td>\n",
       "      <td>2018-05-28</td>\n",
       "      <td>7.087</td>\n",
       "    </tr>\n",
       "    <tr>\n",
       "      <td>2539</td>\n",
       "      <td>10</td>\n",
       "      <td>2018-05-29</td>\n",
       "      <td>0.000</td>\n",
       "    </tr>\n",
       "    <tr>\n",
       "      <td>2540</td>\n",
       "      <td>10</td>\n",
       "      <td>2018-05-30</td>\n",
       "      <td>8.288</td>\n",
       "    </tr>\n",
       "    <tr>\n",
       "      <td>2541</td>\n",
       "      <td>10</td>\n",
       "      <td>2018-05-31</td>\n",
       "      <td>1.600</td>\n",
       "    </tr>\n",
       "  </tbody>\n",
       "</table>\n",
       "<p>2542 rows × 3 columns</p>\n",
       "</div>"
      ],
      "text/plain": [
       "      source_id         dt  metric\n",
       "0             1 2017-06-01  10.743\n",
       "1             1 2017-06-02  20.750\n",
       "2             1 2017-06-03   9.132\n",
       "3             1 2017-06-04   9.167\n",
       "4             1 2017-06-05   7.135\n",
       "...         ...        ...     ...\n",
       "2537         10 2018-05-27   0.000\n",
       "2538         10 2018-05-28   7.087\n",
       "2539         10 2018-05-29   0.000\n",
       "2540         10 2018-05-30   8.288\n",
       "2541         10 2018-05-31   1.600\n",
       "\n",
       "[2542 rows x 3 columns]"
      ]
     },
     "execution_count": 52,
     "metadata": {},
     "output_type": "execute_result"
    }
   ],
   "source": [
    "spend_ad = advertisment_costs.groupby(['source_id','dt'])['costs'].sum().reset_index()\n",
    "spend_ad.columns = ['source_id','dt','costs']\n",
    "spend_ad['dt'] = spend_ad['dt'].astype('datetime64[D]')\n",
    "\n",
    "visits['date_st'] = visits['startts'].astype('datetime64[D]')\n",
    "visits_count = visits.groupby(['sourceid','date_st'])['uid'].nunique().reset_index()\n",
    "visits_count.columns = ['source_id','dt','nunique_visits']\n",
    "\n",
    "total_data = spend_ad.merge(visits_count, on=['dt','source_id'], how='left')\n",
    "total_data['metric'] = (total_data['costs'] / total_data['nunique_visits']).round(3)\n",
    "total_data = total_data.groupby(['source_id','dt'])['metric'].sum().reset_index()\n",
    "total_data"
   ]
  },
  {
   "cell_type": "markdown",
   "metadata": {},
   "source": [
    "#### Вывод\n",
    "Самый затратный день (с максимальной метрикой 136.595) вышел на 01.08.2017 на 3й рекламный ресурс. Наименьший максимальный показатель (26.74) на рекламу у 9ого рекламного ресурса. На него же тратится наименьшее количество средств."
   ]
  }
 ],
 "metadata": {
  "kernelspec": {
   "display_name": "Python 3",
   "language": "python",
   "name": "python3"
  },
  "language_info": {
   "codemirror_mode": {
    "name": "ipython",
    "version": 3
   },
   "file_extension": ".py",
   "mimetype": "text/x-python",
   "name": "python",
   "nbconvert_exporter": "python",
   "pygments_lexer": "ipython3",
   "version": "3.7.4"
  }
 },
 "nbformat": 4,
 "nbformat_minor": 2
}
