{
 "cells": [
  {
   "cell_type": "code",
   "execution_count": 2,
   "metadata": {},
   "outputs": [],
   "source": [
    "import pandas as pd\n",
    "import datetime as dt\n",
    "import matplotlib.pyplot as plt\n",
    "import scipy.stats as st\n",
    "import math as mth\n",
    "df = pd.read_csv('ab_log.csv')\n",
    "df['EventTime'] = df['EventTime'].astype('datetime64[s]')"
   ]
  },
  {
   "cell_type": "code",
   "execution_count": 3,
   "metadata": {},
   "outputs": [
    {
     "name": "stdout",
     "output_type": "stream",
     "text": [
      "<class 'pandas.core.frame.DataFrame'>\n",
      "RangeIndex: 154492 entries, 0 to 154491\n",
      "Data columns (total 4 columns):\n",
      "event        154492 non-null object\n",
      "user_id      154492 non-null int64\n",
      "EventTime    154492 non-null datetime64[ns]\n",
      "Group        154492 non-null object\n",
      "dtypes: datetime64[ns](1), int64(1), object(2)\n",
      "memory usage: 4.7+ MB\n"
     ]
    }
   ],
   "source": [
    "df.duplicated().sum()\n",
    "df = df.drop_duplicates().reset_index(drop=True)\n",
    "df.info()"
   ]
  },
  {
   "cell_type": "markdown",
   "metadata": {},
   "source": [
    "Удалила 296 дубликатов. Количество незначительно и на результаты повлиять не должно. Всего в данных 6805 уникальных пользователей. В среднем по 22 события на каждого. Даты берутся с 25.07.2019 по 05.08.2019. "
   ]
  },
  {
   "cell_type": "code",
   "execution_count": 4,
   "metadata": {},
   "outputs": [
    {
     "data": {
      "text/plain": [
       "array(['StartReadingOffer', 'OpenProductCard', 'StartCheckProduct',\n",
       "       'OpenPaymentScreen'], dtype=object)"
      ]
     },
     "execution_count": 4,
     "metadata": {},
     "output_type": "execute_result"
    }
   ],
   "source": [
    "df['event'].unique()"
   ]
  },
  {
   "cell_type": "markdown",
   "metadata": {},
   "source": [
    "У нас есть 4 вида событий:\n",
    "\n",
    "1. StartReadingOffer - начал читать предложение о продукте;\n",
    "2. StartCheckProduct - начал пробовать продукт;\n",
    "3. OpenProductCard - открыл полную карту с информацией о продукте;\n",
    "4. OpenPaymentScreen - открыл экран оплаты.\n",
    "\n",
    "В такой последовательности они будут идти по убыванию количества уникальных пользователей."
   ]
  },
  {
   "cell_type": "code",
   "execution_count": 5,
   "metadata": {},
   "outputs": [
    {
     "name": "stderr",
     "output_type": "stream",
     "text": [
      "/opt/conda/lib/python3.7/site-packages/pandas/plotting/_matplotlib/converter.py:103: FutureWarning: Using an implicitly registered datetime converter for a matplotlib plotting method. The converter was registered by pandas on import. Future versions of pandas will require you to explicitly register matplotlib converters.\n",
      "\n",
      "To register the converters:\n",
      "\t>>> from pandas.plotting import register_matplotlib_converters\n",
      "\t>>> register_matplotlib_converters()\n",
      "  warnings.warn(msg, FutureWarning)\n"
     ]
    },
    {
     "data": {
      "image/png": "[encoded data removed]",
      "text/plain": [
       "<Figure size 432x288 with 1 Axes>"
      ]
     },
     "metadata": {
      "needs_background": "light"
     },
     "output_type": "display_data"
    }
   ],
   "source": [
    "plt.hist(df['EventTime'], bins=14)\n",
    "plt.xticks(rotation=60)\n",
    "plt.show()"
   ]
  },
  {
   "cell_type": "markdown",
   "metadata": {},
   "source": [
    "Здесь мы можем увидеть, что данные начинают накапливаться и давать основательный массив с 01.08.2019. Определим остальные данные за выброс."
   ]
  },
  {
   "cell_type": "code",
   "execution_count": 6,
   "metadata": {},
   "outputs": [],
   "source": [
    "data = df[df['EventTime'] >= '2019-08-01'].reset_index(drop=True)"
   ]
  },
  {
   "cell_type": "code",
   "execution_count": 7,
   "metadata": {},
   "outputs": [
    {
     "data": {
      "text/plain": [
       "B     54000\n",
       "A2    48949\n",
       "A1    48729\n",
       "Name: Group, dtype: int64"
      ]
     },
     "execution_count": 7,
     "metadata": {},
     "output_type": "execute_result"
    }
   ],
   "source": [
    "data['Group'].value_counts()"
   ]
  },
  {
   "cell_type": "markdown",
   "metadata": {},
   "source": [
    "Проверим группы А1 и А2 на проходимость по критериям A/B теста\n",
    "\n",
    "* Количество пользователей в различных группах различается не более, чем на 1%;\n",
    "* Для всех групп фиксируют и отправляют в системы аналитики данные об одном и том же;\n",
    "* Различие ключевых метрик по группам не превышает 1% и не имеет статистической значимости;\n",
    "* Попавший в одну из групп посетитель остаётся в этой группе до конца теста. Если пользователь видит разные версии исследуемой страницы в ходе одного исследования, неизвестно, какая именно повлияла на его решения. Значит, и результаты такого теста нельзя интерпретировать однозначно."
   ]
  },
  {
   "cell_type": "code",
   "execution_count": 8,
   "metadata": {},
   "outputs": [],
   "source": [
    "A1_A2 = data[(data['Group'] == 'A1') | (data['Group'] == 'A2')]\n",
    "A1 = data[data['Group'] == 'A1']\n",
    "A2 = data[data['Group'] == 'A2']\n",
    "B = data[data['Group'] == 'B']\n",
    "\n",
    "A1['event'].unique()\n",
    "A2['event'].unique()\n",
    "B['event'].unique()\n",
    "\n",
    "(A1['user_id'].nunique()/data['user_id'].nunique() - A2['user_id'].nunique()/data['user_id'].nunique()) * 100\n",
    "(A1['user_id'].nunique()/data['user_id'].nunique() - B['user_id'].nunique()/data['user_id'].nunique()) * 100\n",
    "(A2['user_id'].nunique()/data['user_id'].nunique() - B['user_id'].nunique()/data['user_id'].nunique()) * 100\n",
    "\n",
    "A1_users = A1['user_id'].unique()\n",
    "A2_users = A2['user_id'].unique()\n",
    "B_users = B['user_id'].unique()\n",
    "\n",
    "wrong_usersA1_A2 = A1.query('user_id in @A2_users')\n",
    "wrong_usersA1_B = A1.query('user_id in @B_users')\n",
    "wrong_usersA2_B = A2.query('user_id in @B_users')"
   ]
  },
  {
   "cell_type": "markdown",
   "metadata": {},
   "source": [
    "Количество пользователей разных групп не отличается больше, чем на 1%. Все группы содержат все варианты событий. Проверили, чтобы участники не дублировались в других группах."
   ]
  },
  {
   "cell_type": "code",
   "execution_count": 9,
   "metadata": {},
   "outputs": [
    {
     "data": {
      "text/html": [
       "<div>\n",
       "<style scoped>\n",
       "    .dataframe tbody tr th:only-of-type {\n",
       "        vertical-align: middle;\n",
       "    }\n",
       "\n",
       "    .dataframe tbody tr th {\n",
       "        vertical-align: top;\n",
       "    }\n",
       "\n",
       "    .dataframe thead th {\n",
       "        text-align: right;\n",
       "    }\n",
       "</style>\n",
       "<table border=\"1\" class=\"dataframe\">\n",
       "  <thead>\n",
       "    <tr style=\"text-align: right;\">\n",
       "      <th></th>\n",
       "      <th>conversion</th>\n",
       "      <th>p_value_A1-A2</th>\n",
       "      <th>p_value_A1-B</th>\n",
       "      <th>p_value_A2-B</th>\n",
       "      <th>p_value_A1_A2-B</th>\n",
       "    </tr>\n",
       "  </thead>\n",
       "  <tbody>\n",
       "    <tr>\n",
       "      <td>0</td>\n",
       "      <td>StartReadingOffer-StartCheckProduct</td>\n",
       "      <td>0.1605</td>\n",
       "      <td>0.7287</td>\n",
       "      <td>0.0800</td>\n",
       "      <td>0.2276</td>\n",
       "    </tr>\n",
       "    <tr>\n",
       "      <td>1</td>\n",
       "      <td>StartCheckProduct-OpenProductCard</td>\n",
       "      <td>0.8801</td>\n",
       "      <td>0.8238</td>\n",
       "      <td>0.7082</td>\n",
       "      <td>0.7306</td>\n",
       "    </tr>\n",
       "    <tr>\n",
       "      <td>2</td>\n",
       "      <td>OpenPaymentScreen-OpenProductCard</td>\n",
       "      <td>0.5705</td>\n",
       "      <td>0.0261</td>\n",
       "      <td>0.0055</td>\n",
       "      <td>0.0058</td>\n",
       "    </tr>\n",
       "  </tbody>\n",
       "</table>\n",
       "</div>"
      ],
      "text/plain": [
       "                            conversion p_value_A1-A2 p_value_A1-B  \\\n",
       "0  StartReadingOffer-StartCheckProduct        0.1605       0.7287   \n",
       "1    StartCheckProduct-OpenProductCard        0.8801       0.8238   \n",
       "2    OpenPaymentScreen-OpenProductCard        0.5705       0.0261   \n",
       "\n",
       "  p_value_A2-B p_value_A1_A2-B  \n",
       "0       0.0800          0.2276  \n",
       "1       0.7082          0.7306  \n",
       "2       0.0055          0.0058  "
      ]
     },
     "execution_count": 9,
     "metadata": {},
     "output_type": "execute_result"
    }
   ],
   "source": [
    "def z_test(group1,group2,event1,event2):    \n",
    "    gr1_event1 = group1[group1['event'] == event1]['user_id'].nunique()\n",
    "    gr1_event2 = group1[group1['event'] == event2]['user_id'].nunique()\n",
    "    \n",
    "    gr2_event1 = group2[group2['event'] == event1]['user_id'].nunique()\n",
    "    gr2_event2 = group2[group2['event'] == event2]['user_id'].nunique()\n",
    "\n",
    "    p1 = gr1_event2 / gr1_event1\n",
    "    p2 = gr2_event2 / gr2_event1\n",
    "    p_combined = (gr1_event2 + gr2_event2) / (gr1_event1 + gr2_event1)\n",
    "\n",
    "    difference = p1 - p2\n",
    "    z_value = difference / mth.sqrt(p_combined * (1 - p_combined) * (1 / gr1_event1 + 1 / gr2_event1))\n",
    "    distr = st.norm(0, 1) \n",
    "    p_value = (1 - distr.cdf(abs(z_value))) * 2\n",
    "    return '{:.4f}'.format(p_value)\n",
    "\n",
    "data = [['StartReadingOffer-StartCheckProduct',z_test(A1,A2,'StartReadingOffer','StartCheckProduct'),z_test(A1,B,'StartReadingOffer','StartCheckProduct'),z_test(A2,B,'StartReadingOffer','StartCheckProduct'),z_test(A1_A2,B,'StartReadingOffer','StartCheckProduct')],\n",
    "        ['StartCheckProduct-OpenProductCard',z_test(A1,A2,'StartCheckProduct','OpenProductCard'),z_test(A1,B,'StartCheckProduct','OpenProductCard'),z_test(A2,B,'StartCheckProduct','OpenProductCard'),z_test(A1_A2,B,'StartCheckProduct','OpenProductCard')],\n",
    "        ['OpenPaymentScreen-OpenProductCard',z_test(A1,A2,'OpenPaymentScreen','OpenProductCard'),z_test(A1,B,'OpenPaymentScreen','OpenProductCard'),z_test(A2,B,'OpenPaymentScreen','OpenProductCard'),z_test(A1_A2,B,'OpenPaymentScreen','OpenProductCard')]]\n",
    "users_event = pd.DataFrame(data, columns=['conversion','p_value_A1-A2','p_value_A1-B','p_value_A2-B','p_value_A1_A2-B'])\n",
    "users_event"
   ]
  },
  {
   "cell_type": "markdown",
   "metadata": {},
   "source": [
    "Мы провели 4 теста. Поэтому уровень alpha необходимо уменьшить во избежание ложнопозитивных исходов. Применим метод Шидака к изначально взятой alpha=0,05 и получим 0,013. При таком значении статистическую значимость получают переходы из \"открыл полную карту с информацией о продукте\" в \"открыл экран оплаты\" в сравнении групп 'A2 и B', и 'A1_A2 и B'.\n",
    "\n",
    "В группе B переходы на экран оплаты увеличились и это увеличение имеет статистически значимую разницу. Можем сделать вывод, что назойливый чат положительно сказывается на увеличении конверсии. Есть смысл его оставить."
   ]
  }
 ],
 "metadata": {
  "kernelspec": {
   "display_name": "Python 3",
   "language": "python",
   "name": "python3"
  },
  "language_info": {
   "codemirror_mode": {
    "name": "ipython",
    "version": 3
   },
   "file_extension": ".py",
   "mimetype": "text/x-python",
   "name": "python",
   "nbconvert_exporter": "python",
   "pygments_lexer": "ipython3",
   "version": "3.7.4"
  }
 },
 "nbformat": 4,
 "nbformat_minor": 2
}
