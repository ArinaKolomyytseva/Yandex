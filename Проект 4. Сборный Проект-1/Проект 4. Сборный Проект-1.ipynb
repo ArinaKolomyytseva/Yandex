{
 "cells": [
  {
   "cell_type": "code",
   "execution_count": 1,
   "metadata": {},
   "outputs": [],
   "source": [
    "import pandas as pd\n",
    "import matplotlib.pyplot as plt\n",
    "from scipy import stats as st\n",
    "df1 = pd.read_csv('/datasets/games_data.csv')\n",
    "df2 = pd.read_csv('/datasets/rating.csv')"
   ]
  },
  {
   "cell_type": "code",
   "execution_count": 2,
   "metadata": {},
   "outputs": [
    {
     "name": "stderr",
     "output_type": "stream",
     "text": [
      "/opt/conda/lib/python3.7/site-packages/ipykernel_launcher.py:1: FutureWarning: set_axis currently defaults to operating inplace.\n",
      "This will change in a future version of pandas, use inplace=True to avoid this warning.\n",
      "  \"\"\"Entry point for launching an IPython kernel.\n"
     ]
    },
    {
     "data": {
      "text/html": [
       "<div>\n",
       "<style scoped>\n",
       "    .dataframe tbody tr th:only-of-type {\n",
       "        vertical-align: middle;\n",
       "    }\n",
       "\n",
       "    .dataframe tbody tr th {\n",
       "        vertical-align: top;\n",
       "    }\n",
       "\n",
       "    .dataframe thead th {\n",
       "        text-align: right;\n",
       "    }\n",
       "</style>\n",
       "<table border=\"1\" class=\"dataframe\">\n",
       "  <thead>\n",
       "    <tr style=\"text-align: right;\">\n",
       "      <th></th>\n",
       "      <th>platform</th>\n",
       "      <th>sales_year</th>\n",
       "      <th>genre</th>\n",
       "      <th>online</th>\n",
       "      <th>offline</th>\n",
       "      <th>critic_score</th>\n",
       "      <th>user_score</th>\n",
       "      <th>rating</th>\n",
       "      <th>game_id</th>\n",
       "      <th>decryption</th>\n",
       "      <th>total</th>\n",
       "    </tr>\n",
       "  </thead>\n",
       "  <tbody>\n",
       "    <tr>\n",
       "      <th>0</th>\n",
       "      <td>PS3</td>\n",
       "      <td>2017</td>\n",
       "      <td>Action</td>\n",
       "      <td>702.0</td>\n",
       "      <td>909.0</td>\n",
       "      <td>97.0</td>\n",
       "      <td>8.2</td>\n",
       "      <td>M</td>\n",
       "      <td>20838</td>\n",
       "      <td>От 17 лет</td>\n",
       "      <td>1611.0</td>\n",
       "    </tr>\n",
       "    <tr>\n",
       "      <th>1</th>\n",
       "      <td>X360</td>\n",
       "      <td>2017</td>\n",
       "      <td>Action</td>\n",
       "      <td>966.0</td>\n",
       "      <td>514.0</td>\n",
       "      <td>97.0</td>\n",
       "      <td>8.1</td>\n",
       "      <td>M</td>\n",
       "      <td>48673</td>\n",
       "      <td>От 17 лет</td>\n",
       "      <td>1480.0</td>\n",
       "    </tr>\n",
       "    <tr>\n",
       "      <th>2</th>\n",
       "      <td>X360</td>\n",
       "      <td>2017</td>\n",
       "      <td>Shooter</td>\n",
       "      <td>904.0</td>\n",
       "      <td>424.0</td>\n",
       "      <td>88.0</td>\n",
       "      <td>3.4</td>\n",
       "      <td>M</td>\n",
       "      <td>17801</td>\n",
       "      <td>От 17 лет</td>\n",
       "      <td>1328.0</td>\n",
       "    </tr>\n",
       "    <tr>\n",
       "      <th>3</th>\n",
       "      <td>PS4</td>\n",
       "      <td>2015</td>\n",
       "      <td>Shooter</td>\n",
       "      <td>603.0</td>\n",
       "      <td>586.0</td>\n",
       "      <td>NaN</td>\n",
       "      <td>NaN</td>\n",
       "      <td>NaN</td>\n",
       "      <td>12200</td>\n",
       "      <td>NaN</td>\n",
       "      <td>1189.0</td>\n",
       "    </tr>\n",
       "    <tr>\n",
       "      <th>4</th>\n",
       "      <td>3DS</td>\n",
       "      <td>2017</td>\n",
       "      <td>Role-Playing</td>\n",
       "      <td>528.0</td>\n",
       "      <td>419.0</td>\n",
       "      <td>NaN</td>\n",
       "      <td>NaN</td>\n",
       "      <td>NaN</td>\n",
       "      <td>11432</td>\n",
       "      <td>NaN</td>\n",
       "      <td>947.0</td>\n",
       "    </tr>\n",
       "  </tbody>\n",
       "</table>\n",
       "</div>"
      ],
      "text/plain": [
       "  platform  sales_year         genre  online  offline  critic_score  \\\n",
       "0      PS3        2017        Action   702.0    909.0          97.0   \n",
       "1     X360        2017        Action   966.0    514.0          97.0   \n",
       "2     X360        2017       Shooter   904.0    424.0          88.0   \n",
       "3      PS4        2015       Shooter   603.0    586.0           NaN   \n",
       "4      3DS        2017  Role-Playing   528.0    419.0           NaN   \n",
       "\n",
       "   user_score rating  game_id decryption   total  \n",
       "0         8.2      M    20838  От 17 лет  1611.0  \n",
       "1         8.1      M    48673  От 17 лет  1480.0  \n",
       "2         3.4      M    17801  От 17 лет  1328.0  \n",
       "3         NaN    NaN    12200        NaN  1189.0  \n",
       "4         NaN    NaN    11432        NaN   947.0  "
      ]
     },
     "execution_count": 2,
     "metadata": {},
     "output_type": "execute_result"
    }
   ],
   "source": [
    "df2.set_axis(['rating', 'decryption'], axis=1)\n",
    "data = df1.merge(df2, on='rating', how='left')\n",
    "data['total'] = data['online'] + data['offline']\n",
    "data['user_score'] = pd.to_numeric(data['user_score'], errors='coerce')\n",
    "data['sales_year'] = data['sales_year'].astype('int64')\n",
    "data.head()"
   ]
  },
  {
   "cell_type": "markdown",
   "metadata": {},
   "source": [
    "Изучив внимательнее параметр dbt, можно сделать выводы, что игры с данным рейтингом имеют минимальное значение в общей выручке компании (до 253 сот. тыс.) а также их рейтинг критиков не поднимается выше 78 баллов. Других особых отличительных признаков по ним нет. Также есть и другие игры с низким рейтингом и кол-вом проданных экземпляров с наличием рейтинга. Заменю его на NaN для возможности дальнейшей обработки.\n",
    "В расшифровке таблицы с рейтингом два значения 'K-A - Для всех (до 1998 года)' и 'AO - Только для взрослых' отсутствуют в общей таблице. Очевидно фирма ориентируется на современные игры для широкого спектра публики."
   ]
  },
  {
   "cell_type": "code",
   "execution_count": 3,
   "metadata": {},
   "outputs": [
    {
     "name": "stdout",
     "output_type": "stream",
     "text": [
      "<class 'pandas.core.frame.DataFrame'>\n",
      "Int64Index: 4026 entries, 0 to 4025\n",
      "Data columns (total 11 columns):\n",
      "platform        4026 non-null object\n",
      "sales_year      4026 non-null int64\n",
      "genre           4026 non-null object\n",
      "online          4026 non-null float64\n",
      "offline         4026 non-null float64\n",
      "critic_score    1812 non-null float64\n",
      "user_score      2032 non-null float64\n",
      "rating          2315 non-null object\n",
      "game_id         4026 non-null int64\n",
      "decryption      2315 non-null object\n",
      "total           4026 non-null float64\n",
      "dtypes: float64(5), int64(2), object(4)\n",
      "memory usage: 377.4+ KB\n"
     ]
    }
   ],
   "source": [
    "data.info()"
   ]
  },
  {
   "cell_type": "markdown",
   "metadata": {},
   "source": [
    "Шаг 3. Проведите исследовательский анализ данных\n",
    "1. Постройте распределение количества игр по годам продажи и опишите полученный результат"
   ]
  },
  {
   "cell_type": "code",
   "execution_count": 4,
   "metadata": {},
   "outputs": [
    {
     "data": {
      "text/plain": [
       "<matplotlib.axes._subplots.AxesSubplot at 0x7f757a1298d0>"
      ]
     },
     "execution_count": 4,
     "metadata": {},
     "output_type": "execute_result"
    },
    {
     "data": {
      "image/png": "[encoded data removed]",
      "text/plain": [
       "<Figure size 432x288 with 1 Axes>"
      ]
     },
     "metadata": {
      "needs_background": "light"
     },
     "output_type": "display_data"
    }
   ],
   "source": [
    "data_count_year = data.groupby('sales_year')['game_id'].count()\n",
    "data_count_year.plot(kind='bar', legend=True, label='Кол-во игр', color='black')"
   ]
  },
  {
   "cell_type": "markdown",
   "metadata": {},
   "source": [
    "В 2017 году в компании произошел какой-то невероятный скачек, они вышли из регрессии с показателем чуть ли не в 2,5 раза по отношению к 2016 году. Возможно это какая-то удачная рекламная кампания или выход на рынок давно ожидаемых игр. Такие резкие подъемы редко когда получается поддерживать долго и мы видим спад в 2018 году."
   ]
  },
  {
   "cell_type": "markdown",
   "metadata": {},
   "source": [
    "2. Постройте распределение по годам продажи для игр с отзывом и без отзыва; cравните полученные распределения и сделайте вывод"
   ]
  },
  {
   "cell_type": "code",
   "execution_count": 5,
   "metadata": {
    "scrolled": true
   },
   "outputs": [
    {
     "data": {
      "text/plain": [
       "<matplotlib.axes._subplots.AxesSubplot at 0x7f757801eda0>"
      ]
     },
     "execution_count": 5,
     "metadata": {},
     "output_type": "execute_result"
    },
    {
     "data": {
      "image/png": "[encoded data removed]",
      "text/plain": [
       "<Figure size 432x288 with 1 Axes>"
      ]
     },
     "metadata": {
      "needs_background": "light"
     },
     "output_type": "display_data"
    }
   ],
   "source": [
    "data_score_rev = data.query('user_score > 0').groupby('sales_year')['game_id'].count()\n",
    "data_score_not_rev = data[data['user_score'].isna()].groupby('sales_year')['game_id'].count()\n",
    "data_score_rev.plot(kind='line', legend=True, label='С отзывами', color='black', lw=3)\n",
    "data_score_not_rev.plot(kind='line', legend=True, label='Без отзывов', color='red', lw=3)"
   ]
  },
  {
   "cell_type": "markdown",
   "metadata": {},
   "source": [
    "Видимо людей не хватало в 2017 году писать отзывы на все новые игры. А также это может указывать, что вышли некие новые игры, которые, кстати, сделали продажи этого года."
   ]
  },
  {
   "cell_type": "markdown",
   "metadata": {},
   "source": [
    "3. Постройте график по суммам продаж каждого года; сделайте вывод"
   ]
  },
  {
   "cell_type": "code",
   "execution_count": 6,
   "metadata": {},
   "outputs": [
    {
     "data": {
      "text/plain": [
       "<matplotlib.axes._subplots.AxesSubplot at 0x7f757794a9b0>"
      ]
     },
     "execution_count": 6,
     "metadata": {},
     "output_type": "execute_result"
    },
    {
     "data": {
      "image/png": "[encoded data removed]",
      "text/plain": [
       "<Figure size 432x288 with 1 Axes>"
      ]
     },
     "metadata": {
      "needs_background": "light"
     },
     "output_type": "display_data"
    }
   ],
   "source": [
    "data_sales_year = data.groupby('sales_year')['total'].sum()\n",
    "data_sales_year.plot(kind='bar', legend=True, label='Сумма', color='gold')"
   ]
  },
  {
   "cell_type": "markdown",
   "metadata": {},
   "source": [
    "Неудивительно, что компания предприняла какие-то попытки выйти из падения в 2016 году. При учете, что разнообразие игр снизилось всего на 100 позиций, выручка по сравнению с 2015 годом упала в 2 раза."
   ]
  },
  {
   "cell_type": "markdown",
   "metadata": {},
   "source": [
    "4. Постройте ящик с усами по общим продажам, опишите полученный результат"
   ]
  },
  {
   "cell_type": "code",
   "execution_count": 7,
   "metadata": {
    "scrolled": false
   },
   "outputs": [
    {
     "data": {
      "text/plain": [
       "count    4026.000000\n",
       "mean       37.253353\n",
       "std        99.359061\n",
       "min         0.000000\n",
       "25%         0.000000\n",
       "50%         8.000000\n",
       "75%        31.000000\n",
       "max      1611.000000\n",
       "Name: total, dtype: float64"
      ]
     },
     "execution_count": 7,
     "metadata": {},
     "output_type": "execute_result"
    },
    {
     "data": {
      "image/png": "[encoded data removed]",
      "text/plain": [
       "<Figure size 432x288 with 1 Axes>"
      ]
     },
     "metadata": {
      "needs_background": "light"
     },
     "output_type": "display_data"
    }
   ],
   "source": [
    "plt.ylim(0,100)\n",
    "data.boxplot('total', figsize=(5,20))\n",
    "data['total'].describe()"
   ]
  },
  {
   "cell_type": "markdown",
   "metadata": {},
   "source": [
    "Нормальное распределение лежит примерно до 78 сот.тыс. Медиана ближе к нижнему квартилю, значит выбросов относительно немного. При этом среднее значение значительно выше медианы, значит в выборке много высоких значений. Стандартное отклонение велико, разброс величин неоднороден."
   ]
  },
  {
   "cell_type": "markdown",
   "metadata": {},
   "source": [
    "5. Узнайте, на какой платформе было продано больше всего игр"
   ]
  },
  {
   "cell_type": "code",
   "execution_count": 8,
   "metadata": {},
   "outputs": [
    {
     "data": {
      "text/plain": [
       "'Наибольшее количество игр (708 шт.) продано на платформе PS3'"
      ]
     },
     "execution_count": 8,
     "metadata": {},
     "output_type": "execute_result"
    }
   ],
   "source": [
    "'Наибольшее количество игр ({} шт.) продано на платформе {}'.format(data.groupby('platform')['game_id'].count().max(), data.groupby('platform')['game_id'].count().idxmax())"
   ]
  },
  {
   "cell_type": "markdown",
   "metadata": {},
   "source": [
    "6. Определите, игр какого жанра больше всего"
   ]
  },
  {
   "cell_type": "code",
   "execution_count": 9,
   "metadata": {},
   "outputs": [
    {
     "data": {
      "text/plain": [
       "'Самый популярный жанр игр (1270 разных игр) - это Action'"
      ]
     },
     "execution_count": 9,
     "metadata": {},
     "output_type": "execute_result"
    }
   ],
   "source": [
    "'Самый популярный жанр игр ({} разных игр) - это {}'.format(data.groupby('genre')['game_id'].count().max(), data.groupby('genre')['game_id'].count().idxmax())"
   ]
  },
  {
   "cell_type": "markdown",
   "metadata": {},
   "source": [
    "7. Найдите игры с наибольшей и наименьшей оценкой от пользователей"
   ]
  },
  {
   "cell_type": "code",
   "execution_count": 10,
   "metadata": {
    "scrolled": true
   },
   "outputs": [
    {
     "name": "stdout",
     "output_type": "stream",
     "text": [
      "ID игр с наибольшей оценкой от пользователей (9.3) - это [12365 38270]\n",
      "ID игры с наименьшей оценкой от пользователей (0.2) - это [23493]\n"
     ]
    }
   ],
   "source": [
    "print(\n",
    "    'ID игр с наибольшей оценкой от пользователей ({}) - это {}'\n",
    "    .format(data['user_score'].max(), \n",
    "    data.loc[data['user_score'] == data['user_score'].max()]['game_id'].values)\n",
    ")\n",
    "print(\n",
    "    'ID игры с наименьшей оценкой от пользователей ({}) - это {}'\n",
    "    .format(data['user_score'].min(), \n",
    "    data.loc[data['user_score'] == data['user_score'].min()]['game_id'].values)\n",
    ")"
   ]
  },
  {
   "cell_type": "markdown",
   "metadata": {},
   "source": [
    "8. Найдите игры с наибольшей и наименьшей оценкой от критиков"
   ]
  },
  {
   "cell_type": "code",
   "execution_count": 11,
   "metadata": {},
   "outputs": [
    {
     "name": "stdout",
     "output_type": "stream",
     "text": [
      "ID игр с наибольшей оценкой от критиков (97.0) - это [20838 48673 28618 39055]\n",
      "ID игры с наименьшей оценкой от критиков (13.0) - это [28618]\n"
     ]
    }
   ],
   "source": [
    "print(\n",
    "    'ID игр с наибольшей оценкой от критиков ({}) - это {}'\n",
    "    .format(data['critic_score'].max(), \n",
    "    data.loc[data['critic_score'] == data['critic_score'].max()]['game_id'].values)\n",
    ")\n",
    "print(\n",
    "    'ID игры с наименьшей оценкой от критиков ({}) - это {}'\n",
    "    .format(data['critic_score'].min(), \n",
    "    data.loc[data['critic_score'] == data['critic_score'].min()]['game_id'].values)\n",
    ")"
   ]
  },
  {
   "cell_type": "markdown",
   "metadata": {},
   "source": [
    "9. Оцените корреляцию между оценками критиков и пользовательскими оценками."
   ]
  },
  {
   "cell_type": "code",
   "execution_count": 12,
   "metadata": {},
   "outputs": [
    {
     "data": {
      "text/plain": [
       "0.5348532967085243"
      ]
     },
     "execution_count": 12,
     "metadata": {},
     "output_type": "execute_result"
    }
   ],
   "source": [
    "data['critic_score'].corr(data['user_score'])"
   ]
  },
  {
   "cell_type": "markdown",
   "metadata": {},
   "source": [
    "Корреляция велика, рейтинг критиков и игроков зачастую совпадает."
   ]
  },
  {
   "cell_type": "markdown",
   "metadata": {},
   "source": [
    "Шаг 4. Составьте портрет пользователя для онлайн и офлайн продаж.\n",
    "Для покупателей интернет-магазина и сети розничных магазинов определите:"
   ]
  },
  {
   "cell_type": "markdown",
   "metadata": {},
   "source": [
    "1. топ-5 предпочтительных жанров"
   ]
  },
  {
   "cell_type": "code",
   "execution_count": 13,
   "metadata": {},
   "outputs": [
    {
     "data": {
      "text/html": [
       "<div>\n",
       "<style scoped>\n",
       "    .dataframe tbody tr th:only-of-type {\n",
       "        vertical-align: middle;\n",
       "    }\n",
       "\n",
       "    .dataframe tbody tr th {\n",
       "        vertical-align: top;\n",
       "    }\n",
       "\n",
       "    .dataframe thead th {\n",
       "        text-align: right;\n",
       "    }\n",
       "</style>\n",
       "<table border=\"1\" class=\"dataframe\">\n",
       "  <thead>\n",
       "    <tr style=\"text-align: right;\">\n",
       "      <th></th>\n",
       "      <th>platform</th>\n",
       "      <th>sales_year</th>\n",
       "      <th>genre</th>\n",
       "      <th>online</th>\n",
       "      <th>offline</th>\n",
       "      <th>critic_score</th>\n",
       "      <th>user_score</th>\n",
       "      <th>rating</th>\n",
       "      <th>game_id</th>\n",
       "      <th>decryption</th>\n",
       "      <th>total</th>\n",
       "    </tr>\n",
       "  </thead>\n",
       "  <tbody>\n",
       "    <tr>\n",
       "      <th>0</th>\n",
       "      <td>PS3</td>\n",
       "      <td>2017</td>\n",
       "      <td>Action</td>\n",
       "      <td>702.0</td>\n",
       "      <td>909.0</td>\n",
       "      <td>97.0</td>\n",
       "      <td>8.2</td>\n",
       "      <td>M</td>\n",
       "      <td>20838</td>\n",
       "      <td>От 17 лет</td>\n",
       "      <td>1611.0</td>\n",
       "    </tr>\n",
       "    <tr>\n",
       "      <th>1</th>\n",
       "      <td>X360</td>\n",
       "      <td>2017</td>\n",
       "      <td>Action</td>\n",
       "      <td>966.0</td>\n",
       "      <td>514.0</td>\n",
       "      <td>97.0</td>\n",
       "      <td>8.1</td>\n",
       "      <td>M</td>\n",
       "      <td>48673</td>\n",
       "      <td>От 17 лет</td>\n",
       "      <td>1480.0</td>\n",
       "    </tr>\n",
       "    <tr>\n",
       "      <th>2</th>\n",
       "      <td>X360</td>\n",
       "      <td>2017</td>\n",
       "      <td>Shooter</td>\n",
       "      <td>904.0</td>\n",
       "      <td>424.0</td>\n",
       "      <td>88.0</td>\n",
       "      <td>3.4</td>\n",
       "      <td>M</td>\n",
       "      <td>17801</td>\n",
       "      <td>От 17 лет</td>\n",
       "      <td>1328.0</td>\n",
       "    </tr>\n",
       "    <tr>\n",
       "      <th>3</th>\n",
       "      <td>PS4</td>\n",
       "      <td>2015</td>\n",
       "      <td>Shooter</td>\n",
       "      <td>603.0</td>\n",
       "      <td>586.0</td>\n",
       "      <td>NaN</td>\n",
       "      <td>NaN</td>\n",
       "      <td>NaN</td>\n",
       "      <td>12200</td>\n",
       "      <td>NaN</td>\n",
       "      <td>1189.0</td>\n",
       "    </tr>\n",
       "    <tr>\n",
       "      <th>4</th>\n",
       "      <td>3DS</td>\n",
       "      <td>2017</td>\n",
       "      <td>Role-Playing</td>\n",
       "      <td>528.0</td>\n",
       "      <td>419.0</td>\n",
       "      <td>NaN</td>\n",
       "      <td>NaN</td>\n",
       "      <td>NaN</td>\n",
       "      <td>11432</td>\n",
       "      <td>NaN</td>\n",
       "      <td>947.0</td>\n",
       "    </tr>\n",
       "  </tbody>\n",
       "</table>\n",
       "</div>"
      ],
      "text/plain": [
       "  platform  sales_year         genre  online  offline  critic_score  \\\n",
       "0      PS3        2017        Action   702.0    909.0          97.0   \n",
       "1     X360        2017        Action   966.0    514.0          97.0   \n",
       "2     X360        2017       Shooter   904.0    424.0          88.0   \n",
       "3      PS4        2015       Shooter   603.0    586.0           NaN   \n",
       "4      3DS        2017  Role-Playing   528.0    419.0           NaN   \n",
       "\n",
       "   user_score rating  game_id decryption   total  \n",
       "0         8.2      M    20838  От 17 лет  1611.0  \n",
       "1         8.1      M    48673  От 17 лет  1480.0  \n",
       "2         3.4      M    17801  От 17 лет  1328.0  \n",
       "3         NaN    NaN    12200        NaN  1189.0  \n",
       "4         NaN    NaN    11432        NaN   947.0  "
      ]
     },
     "execution_count": 13,
     "metadata": {},
     "output_type": "execute_result"
    }
   ],
   "source": [
    "data.head()"
   ]
  },
  {
   "cell_type": "code",
   "execution_count": 14,
   "metadata": {},
   "outputs": [
    {
     "name": "stdout",
     "output_type": "stream",
     "text": [
      "Наиболее предпочтительные жанры для online-магазина: ['Action', 'Shooter', 'Sports', 'Role-Playing', 'Misc']\n",
      "Наиболее предпочтительные жанры для offline-магазина: ['Action', 'Shooter', 'Sports', 'Role-Playing', 'Racing']\n"
     ]
    }
   ],
   "source": [
    "data_on_max = data.groupby('genre')['online'].sum().sort_values(ascending=False).head()\n",
    "data_off_max = data.groupby('genre')['offline'].sum().sort_values(ascending=False).head()\n",
    "\n",
    "print('Наиболее предпочтительные жанры для online-магазина: {}'.format(list(data_on_max.index)))\n",
    "print('Наиболее предпочтительные жанры для offline-магазина: {}'.format(list(data_off_max.index)))"
   ]
  },
  {
   "cell_type": "markdown",
   "metadata": {},
   "source": [
    "2. в какие года пользователи были наиболее активны (больше всего покупали игры)"
   ]
  },
  {
   "cell_type": "code",
   "execution_count": 15,
   "metadata": {},
   "outputs": [
    {
     "name": "stdout",
     "output_type": "stream",
     "text": [
      "Самый прибыльный год для online-магазина: 2017\n",
      "Самый прибыльный год для offline-магазина: 2017\n"
     ]
    }
   ],
   "source": [
    "data_on_year = data.groupby('sales_year')['online'].sum()\n",
    "data_off_year = data.groupby('sales_year')['offline'].sum()\n",
    "\n",
    "print('Самый прибыльный год для online-магазина: {}'.format(data_on_year.idxmax()))\n",
    "print('Самый прибыльный год для offline-магазина: {}'.format(data_off_year.idxmax()))"
   ]
  },
  {
   "cell_type": "markdown",
   "metadata": {},
   "source": [
    "3. топ-5 предпочтительных платформ"
   ]
  },
  {
   "cell_type": "code",
   "execution_count": 16,
   "metadata": {},
   "outputs": [
    {
     "name": "stdout",
     "output_type": "stream",
     "text": [
      "Наиболее предпочтительные платформы для online-магазина: ['X360', 'PS3', 'PS4', 'XOne', '3DS']\n",
      "Наиболее предпочтительные платформы для offline-магазина: ['PS3', 'PS4', 'X360', '3DS', 'PC']\n"
     ]
    }
   ],
   "source": [
    "data_on_platform = data.groupby('platform')['online'].sum().sort_values(ascending=False).head()\n",
    "data_off_platform = data.groupby('platform')['offline'].sum().sort_values(ascending=False).head()\n",
    "\n",
    "print('Наиболее предпочтительные платформы для online-магазина: {}'.format(list(data_on_platform.index)))\n",
    "print('Наиболее предпочтительные платформы для offline-магазина: {}'.format(list(data_off_platform.index)))"
   ]
  },
  {
   "cell_type": "markdown",
   "metadata": {},
   "source": [
    "4. какой рейтинг ESRB встречается чаще всего (наиболее частотная категория)"
   ]
  },
  {
   "cell_type": "code",
   "execution_count": 17,
   "metadata": {},
   "outputs": [
    {
     "name": "stdout",
     "output_type": "stream",
     "text": [
      "Наиболее популярный рейтинг для online-магазина: ('M', 'От 17 лет')\n",
      "Наиболее популярный рейтинг для offline-магазина: ('M', 'От 17 лет')\n"
     ]
    }
   ],
   "source": [
    "data_on_rating = data.groupby(['rating', 'decryption'])['online'].sum()\n",
    "data_off_rating = data.groupby(['rating', 'decryption'])['offline'].sum()\n",
    "\n",
    "print('Наиболее популярный рейтинг для online-магазина: {}'.format(data_on_rating.idxmax()))\n",
    "print('Наиболее популярный рейтинг для offline-магазина: {}'.format(data_off_rating.idxmax()))"
   ]
  },
  {
   "cell_type": "markdown",
   "metadata": {},
   "source": [
    "Шаг 5. Проверьте гипотезы:"
   ]
  },
  {
   "cell_type": "markdown",
   "metadata": {},
   "source": [
    "1. средний пользовательский рейтинг платформ PS4 и PS3 одинаковый;"
   ]
  },
  {
   "cell_type": "code",
   "execution_count": 18,
   "metadata": {},
   "outputs": [
    {
     "name": "stdout",
     "output_type": "stream",
     "text": [
      "p-значение: 0.2543695482219482\n"
     ]
    }
   ],
   "source": [
    "data_PS3 = data.query('platform == \"PS3\" & user_score !=\"NaN\"')\n",
    "data_PS4 = data.query('platform == \"PS4\" & user_score !=\"NaN\"')\n",
    "\n",
    "alpha = 0.05\n",
    "\n",
    "results = st.ttest_ind(data_PS3['user_score'], data_PS4['user_score'], equal_var=False)\n",
    "print('p-значение:', results.pvalue)"
   ]
  },
  {
   "cell_type": "markdown",
   "metadata": {},
   "source": [
    "Подтверждаем нулевую гипотезу. Пользовательский рейтинг платформ PS4 и PS3 одинаковый. Разница между рейтингами может возникнуть случайно с вероятностью почти 25%."
   ]
  },
  {
   "cell_type": "markdown",
   "metadata": {},
   "source": [
    "2. средний пользовательский рейтинг жанров Action и Sports различается."
   ]
  },
  {
   "cell_type": "code",
   "execution_count": 19,
   "metadata": {},
   "outputs": [
    {
     "name": "stdout",
     "output_type": "stream",
     "text": [
      "p-значение: 0.00000000000000000083\n"
     ]
    }
   ],
   "source": [
    "data_Action = data.query('genre == \"Action\" & user_score !=\"NaN\"')\n",
    "data_Sports = data.query('genre == \"Sports\" & user_score !=\"NaN\"')\n",
    "\n",
    "alpha = 0.05\n",
    "\n",
    "results1 = st.ttest_ind(data_Action['user_score'], data_Sports['user_score'], equal_var=False)\n",
    "print('p-значение:', '{:.20f}'.format(results1.pvalue))"
   ]
  },
  {
   "cell_type": "markdown",
   "metadata": {},
   "source": [
    "Отвергаем нулевую гипотезу о равенстве пользовательского рейтинга жанров Action и Sports. Разница между средними значениями пользовательского рейтинга в этих жанрах весома."
   ]
  },
  {
   "cell_type": "markdown",
   "metadata": {},
   "source": [
    "Общий вывод:\n",
    "Для компании можно было бы посоветовать ориентироваться на игры жанров 'Action', 'Shooter', 'Sports', 'Role-Playing' и платформы 'X360', 'PS3', 'PS4', '3DS'. Также стоит ориентироваться на публику старше 10 лет. Для детей младшего возраста игры расходятся очень плохо."
   ]
  }
 ],
 "metadata": {
  "kernelspec": {
   "display_name": "Python 3",
   "language": "python",
   "name": "python3"
  },
  "language_info": {
   "codemirror_mode": {
    "name": "ipython",
    "version": 3
   },
   "file_extension": ".py",
   "mimetype": "text/x-python",
   "name": "python",
   "nbconvert_exporter": "python",
   "pygments_lexer": "ipython3",
   "version": "3.7.3"
  }
 },
 "nbformat": 4,
 "nbformat_minor": 2
}
